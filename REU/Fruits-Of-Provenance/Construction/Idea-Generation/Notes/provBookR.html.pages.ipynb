{
 "cells": [
  {
   "cell_type": "markdown",
   "metadata": {},
   "source": [
    "### Load necessary libraries"
   ]
  },
  {
   "cell_type": "code",
   "execution_count": 13,
   "metadata": {},
   "outputs": [
    {
     "name": "stderr",
     "output_type": "stream",
     "text": [
      "Downloading GitHub repo haozhu233/kableExtra@master\n"
     ]
    },
    {
     "name": "stdout",
     "output_type": "stream",
     "text": [
      "xml2     (1.2.0 -> 1.2.1) [CRAN]\n",
      "Rcpp     (1.0.1 -> 1.0.2) [CRAN]\n",
      "httr     (1.4.0 -> 1.4.1) [CRAN]\n",
      "clipr    (0.6.0 -> 0.7.0) [CRAN]\n",
      "callr    (3.3.0 -> 3.3.1) [CRAN]\n",
      "curl     (3.3   -> 4.0  ) [CRAN]\n",
      "openssl  (1.4   -> 1.4.1) [CRAN]\n",
      "processx (3.4.0 -> 3.4.1) [CRAN]\n"
     ]
    },
    {
     "name": "stderr",
     "output_type": "stream",
     "text": [
      "Installing 8 packages: xml2, Rcpp, httr, clipr, callr, curl, openssl, processx\n",
      "Installing packages into ‘/Users/erickoduniyi/Library/R/3.6/library’\n",
      "(as ‘lib’ is unspecified)\n"
     ]
    },
    {
     "name": "stdout",
     "output_type": "stream",
     "text": [
      "\n",
      "  There is a binary version available but the source version is later:\n",
      "     binary source needs_compilation\n",
      "httr  1.4.0  1.4.1             FALSE\n",
      "\n",
      "\n",
      "The downloaded binary packages are in\n",
      "\t/var/folders/bg/wxdnd22s695f4569t0v1v2x80000gn/T//RtmpUax5St/downloaded_packages\n"
     ]
    },
    {
     "name": "stderr",
     "output_type": "stream",
     "text": [
      "installing the source package ‘httr’\n",
      "\n"
     ]
    },
    {
     "name": "stdout",
     "output_type": "stream",
     "text": [
      "\u001b[32m✔\u001b[39m  \u001b[90mchecking for file ‘/private/var/folders/bg/wxdnd22s695f4569t0v1v2x80000gn/T/RtmpUax5St/remotes3311035a0f/haozhu233-kableExtra-a9504c0/DESCRIPTION’\u001b[39m\u001b[36m\u001b[36m (4.7s)\u001b[36m\u001b[39m\n",
      "\u001b[90m─\u001b[39m\u001b[90m  \u001b[39m\u001b[90mpreparing ‘kableExtra’:\u001b[39m\u001b[36m\u001b[36m (1.5s)\u001b[36m\u001b[39m\n",
      "\u001b[32m✔\u001b[39m  \u001b[90mchecking DESCRIPTION meta-information\u001b[39m\u001b[36m\u001b[36m (362ms)\u001b[36m\u001b[39m\n",
      "\u001b[90m─\u001b[39m\u001b[90m  \u001b[39m\u001b[90mchecking for LF line-endings in source and make files and shell scripts\u001b[39m\u001b[36m\u001b[36m (1.8s)\u001b[36m\u001b[39m\n",
      "\u001b[90m─\u001b[39m\u001b[90m  \u001b[39m\u001b[90mchecking for empty or unneeded directories\u001b[39m\u001b[36m\u001b[39m\n",
      "\u001b[90m─\u001b[39m\u001b[90m  \u001b[39m\u001b[90mbuilding ‘kableExtra_1.1.0.9000.tar.gz’\u001b[39m\u001b[36m\u001b[39m\n",
      "   \n",
      "\r"
     ]
    },
    {
     "name": "stderr",
     "output_type": "stream",
     "text": [
      "Installing package into ‘/Users/erickoduniyi/Library/R/3.6/library’\n",
      "(as ‘lib’ is unspecified)\n"
     ]
    }
   ],
   "source": [
    "devtools::install_github(\"haozhu233/kableExtra\")"
   ]
  },
  {
   "cell_type": "code",
   "execution_count": 14,
   "metadata": {},
   "outputs": [],
   "source": [
    "# Load necessary libraries\n",
    "library(DT)\n",
    "library(knitr)\n",
    "library(shiny)\n",
    "library(rmarkdown)\n",
    "library(htmltools)\n",
    "library(kableExtra)"
   ]
  },
  {
   "cell_type": "markdown",
   "metadata": {},
   "source": [
    "### Creating an example to visualize"
   ]
  },
  {
   "cell_type": "code",
   "execution_count": 2,
   "metadata": {},
   "outputs": [],
   "source": [
    "# Create a collection of matrices\n",
    "df.1 <- as.data.frame(matrix(nr=5, nc=5))\n",
    "df.1[1:5,1:5] <- 0\n",
    "colnames(df.1) <- c(\"a1\",\"a2\",\"a3\",\"a4\",\"a5\")\n",
    "\n",
    "df.2 <- as.data.frame(matrix(nr=5, nc=5))\n",
    "df.2[1:5,1:5] <- 1\n",
    "colnames(df.2) <- c(\"b1\",\"b2\",\"b3\",\"b4\",\"b5\")\n",
    "\n",
    "df.3 <- as.data.frame(matrix(nr=5, nc=5))\n",
    "df.3[1:5,1:5] <- 2\n",
    "colnames(df.3) <- c(\"c1\",\"c2\",\"c3\",\"c4\",\"c5\")\n",
    "\n",
    "df.4 <- as.data.frame(matrix(nr=5, nc=5))\n",
    "df.4[1:5,1:5] <- 3\n",
    "colnames(df.4) <- c(\"d1\",\"d2\",\"d3\",\"d4\",\"d5\")\n",
    "\n",
    "df.5 <- as.data.frame(matrix(nr=5, nc=5))\n",
    "df.5[1:5,1:5] <- 4\n",
    "colnames(df.5) <- c(\"e1\",\"e2\",\"e3\",\"e4\",\"e5\")\n",
    "\n",
    "# Putting the collection of data frames into a list\n",
    "df.list <- list(df.1,df.2,df.3,df.4,df.5)"
   ]
  },
  {
   "cell_type": "markdown",
   "metadata": {},
   "source": [
    "### Creating HTML interface functions"
   ]
  },
  {
   "cell_type": "code",
   "execution_count": 3,
   "metadata": {},
   "outputs": [],
   "source": [
    "\n",
    "# Output: a set of paragraphs\n",
    "test.FUN <- function(x){\n",
    "    p(paste(\"Hello\", x))\n",
    "}\n",
    "\n",
    "# page.maker function\n",
    "page.maker <- function(number.pages){\n",
    "    for(i in 1:number.pages){\n",
    "        p(paste(\"Paragraph: \", i))\n",
    "    }\n",
    "}\n",
    "\n",
    "# page.maker.2 function\n",
    "page.maker.2 <- function(number.pages){\n",
    "    p(paste(\"Paragraph: \", number.pages))\n",
    "    p(paste(\"Paragraph: \", number.pages))\n",
    "    p(paste(\"Paragraph: \", number.pages))\n",
    "}\n",
    "\n",
    "# div.maker function\n",
    "div.maker <- function(x){\n",
    "    div(id='myDiv', class='simpleDiv', \"This is a page\",\n",
    "       p(paste(\"Page\",x)))\n",
    "}\n",
    "\n",
    "# div.maker.2 function\n",
    "div.maker.2 <- function(x){\n",
    "    div(id='myDiv', class='simpleDiv', HTML(kable_styling(kable(x))))\n",
    "}\n",
    "\n",
    "# div.maker.2 function\n",
    "# div.maker.2 <- function(x){\n",
    "#     div(id='myDiv', class='simpleDiv', kable_styling(HTML(kable(x)),bootstrap_options = c(\"striped\", \"hover\", \"condensed\", \"responsive\")))\n",
    "# }\n",
    "\n",
    "\n",
    "# div.maker.3 function\n",
    "div.maker.3 <- function(x){\n",
    "    div(id='page',class='provBook.Div', x %>% kable() %>% kable_styling(\"striped\") %>% htmltools::HTML() %>% print)\n",
    "}\n",
    "\n",
    "\n",
    "# div.maker.4 <- function(x){\n",
    "#     div(id='page',class='provBook.Div', x %>% \n",
    "#         kable() %>% \n",
    "#         kable_styling(bootstrap_options = c(\"striped\", \"hover\", \"condensed\", \"responsive\")) %>% \n",
    "#         htmltools::HTML() %>% rmarkdown::render())\n",
    "# }\n"
   ]
  },
  {
   "cell_type": "markdown",
   "metadata": {},
   "source": [
    "### Creating HTML pages"
   ]
  },
  {
   "cell_type": "code",
   "execution_count": 15,
   "metadata": {},
   "outputs": [
    {
     "name": "stdout",
     "output_type": "stream",
     "text": [
      " int 1\n"
     ]
    },
    {
     "ename": "ERROR",
     "evalue": "Error in DT::datatable(x, options = list(dom = \"t\"), filter = list(position = \"top\")): 'data' must be 2-dimensional (e.g. data frame or matrix)\n",
     "output_type": "error",
     "traceback": [
      "Error in DT::datatable(x, options = list(dom = \"t\"), filter = list(position = \"top\")): 'data' must be 2-dimensional (e.g. data frame or matrix)\nTraceback:\n",
      "1. tags$html(tags$head(tags$title(\"provBookR: Visualizing Data Stories\"), \n .     tags$body(h1(\"provBookR: Visualizing Data Stories\"), h2(\"provBookR: Example Header\"), \n .         htmltools::tagList(lapply(1:number.pages, div.maker)))))",
      "2. tag(\"html\", list(...))",
      "3. tags$head(tags$title(\"provBookR: Visualizing Data Stories\"), \n .     tags$body(h1(\"provBookR: Visualizing Data Stories\"), h2(\"provBookR: Example Header\"), \n .         htmltools::tagList(lapply(1:number.pages, div.maker))))",
      "4. tag(\"head\", list(...))",
      "5. tags$body(h1(\"provBookR: Visualizing Data Stories\"), h2(\"provBookR: Example Header\"), \n .     htmltools::tagList(lapply(1:number.pages, div.maker)))",
      "6. tag(\"body\", list(...))",
      "7. htmltools::tagList(lapply(1:number.pages, div.maker))",
      "8. lapply(1:number.pages, div.maker)",
      "9. FUN(X[[i]], ...)",
      "10. DT::datatable(x, options = list(dom = \"t\"), filter = list(position = \"top\"))   # at line 4 of file <text>",
      "11. stop(\"'data' must be 2-dimensional (e.g. data frame or matrix)\")"
     ]
    }
   ],
   "source": [
    "# Create a html document\n",
    "# This is an example of using basic html builder constructs\n",
    "provBookR.doc.1 <- tags$html(\n",
    "    tags$head(\n",
    "        tags$title(\"provBookR: Visualizing Data Stories\"),\n",
    "        tags$body(\n",
    "        h1(\"provBookR: H1-1\"),\n",
    "        h1(\"provBookR: H1-2\"),\n",
    "        h1(\"provBookR: H1-3\")\n",
    "        )\n",
    "    )\n",
    ")\n",
    "\n",
    "# Create html structure\n",
    "# This is an example of using the basic html builder constructs and the page.maker.2 function\n",
    "number.pages <- 10\n",
    "provBookR.doc.2 <- tags$html(\n",
    "    tags$head(\n",
    "        tags$title(\"provBookR: Visualizing Data Stories\"),\n",
    "        tags$body(\n",
    "            h1(\"provBookR: Visualizing Data Stories\"),\n",
    "            h2(\"provBookR: Example Header\"),\n",
    "            page.maker.2(number.pages)\n",
    "        )\n",
    "    )\n",
    ")\n",
    "\n",
    "# Create html structure\n",
    "# This is an example of using the iris data set with the DT library\n",
    "provBookR.doc.3 <- tags$html(\n",
    "    tags$head(\n",
    "        tags$title(\"provBookR: Visualizing Data Stories\"),\n",
    "        tags$body(\n",
    "            h1(\"provBookR: Visualizing Data Stories\"),\n",
    "            h2(\"provBookR: Example Header\"),\n",
    "            htmltools::tagList(DT::datatable(iris))\n",
    "        )\n",
    "    )\n",
    ")\n",
    "\n",
    "# Create html structure\n",
    "# This is an example of using the generated data frame with the DT library\n",
    "df <- as.data.frame(matrix(nr=5,nc=5))\n",
    "colnames(df) <- c(\"x1\",\"x2\",\"x3\",\"x4\",\"x5\")\n",
    "df[1:5,1:5] <- 1\n",
    "provBookR.doc.4 <- tags$html(\n",
    "    tags$head(\n",
    "        tags$title(\"provBookR: Visualizing Data Stories\"),\n",
    "        tags$body(\n",
    "            h1(\"provBookR: Visualizing Data Stories\"),\n",
    "            h2(\"provBookR: Example Header\"),\n",
    "            htmltools::tagList(DT::datatable(df))\n",
    "        )\n",
    "    )\n",
    ")\n",
    "\n",
    "# Create html structure\n",
    "# This is an example of using the generated data frame using the test.FUN function\n",
    "provBookR.doc.5 <- tags$html(\n",
    "    tags$head(\n",
    "        tags$title(\"provBookR: Visualizing Data Stories\"),\n",
    "        tags$body(\n",
    "            h1(\"provBookR: Visualizing Data Stories\"),\n",
    "            h2(\"provBookR: Example Header\"),\n",
    "            htmltools::tagList(lapply(1:5,test.FUN))\n",
    "        )\n",
    "    )\n",
    ")\n",
    "\n",
    "# Collect the number of pages\n",
    "number.pages <- 5\n",
    "# Create html structure\n",
    "# This is an example of using the generated data frame using the div.maker function\n",
    "provBookR.doc.6 <- tags$html(\n",
    "    tags$head( # Create html head\n",
    "        tags$title(\"provBookR: Visualizing Data Stories\"), # Create html title\n",
    "        tags$body( # Create html body\n",
    "            h1(\"provBookR: Visualizing Data Stories\"), # Create html header\n",
    "            h2(\"provBookR: Example Header\"), # Create html header\n",
    "            htmltools::tagList(lapply(1:number.pages,div.maker)) # autogenerate pages\n",
    "        )\n",
    "    )\n",
    ")\n",
    "\n",
    "# Create html structure\n",
    "# This is an example of using the generated data frame using the div.maker.2 function\n",
    "provBookR.doc.7 <- tags$html(\n",
    "    tags$head( # Create html head\n",
    "        tags$title(\"provBookR: Visualizing Data Stories\"), # Create html title\n",
    "        tags$body( # Create html body\n",
    "            h1(\"provBookR: Visualizing Data Stories\"), # Create html header\n",
    "            h2(\"provBookR: Example Header\"), # Create html header\n",
    "            htmltools::tagList(lapply(df.list,div.maker.2)) # autogenerate pages\n",
    "        )\n",
    "    )\n",
    ")\n",
    "\n",
    "# Create html structure\n",
    "# This is an example of using the generated data frame using the div.maker.3 function\n",
    "provBookR.doc.8 <- tags$html(\n",
    "    tags$head( # Create html head\n",
    "        tags$title(\"provBookR: Visualizing Data Stories\"), # Create html title\n",
    "        tags$body( # Create html body\n",
    "            htmltools::tagList(lapply(df.list,div.maker.3)) # autogenerate pages\n",
    "        )\n",
    "    )\n",
    ")\n",
    "\n",
    "# Save provBook.html\n",
    "file.name <- \"provBookR.test.01.html\"\n",
    "save_html(provBookR.doc.1, file.name, background = \"white\", libdir = \"lib\")\n",
    "\n",
    "# Save provBook.html\n",
    "file.name <- \"provBookR.test.02.html\"\n",
    "save_html(provBookR.doc.2, file.name, background = \"white\", libdir = \"lib\")\n",
    "\n",
    "# Save provBook.html\n",
    "file.name <- \"provBookR.test.03.html\"\n",
    "save_html(provBookR.doc.3, file.name, background = \"white\", libdir = \"lib\")\n",
    "\n",
    "# Save provBook.html\n",
    "file.name <- \"provBookR.test.04.html\"\n",
    "save_html(provBookR.doc.4, file.name, background = \"white\", libdir = \"lib\")\n",
    "\n",
    "# Save provBook.html\n",
    "file.name <- \"provBookR.test.06.html\"\n",
    "save_html(provBookR.doc.6, file.name, background = \"white\", libdir = \"lib\")\n",
    "\n",
    "# Save provBook.html\n",
    "file.name <- \"provBookR.test.07.html\"\n",
    "save_html(provBookR.doc.7, file.name, background = \"white\", libdir = \"lib\")\n",
    "\n",
    "# Save provBook.html\n",
    "file.name <- \"provBookR.test.08.html\"\n",
    "save_html(provBookR.doc.8, file.name, background = \"white\", libdir = \"lib\")"
   ]
  },
  {
   "cell_type": "code",
   "execution_count": 16,
   "metadata": {},
   "outputs": [],
   "source": [
    "# Create a function to apply across a list of dataframes\n",
    "# This is an example of using the generated data frame using the div.maker.3 function\n",
    "div.maker <- function(x){\n",
    "    DT::datatable(x, options = list(dom = 't'), filter = list(position = \"top\"))\n",
    "}\n",
    "\n",
    "# Create a html structure for the provbook\n",
    "provBookR.clean <- tags$html(\n",
    "    tags$head( # Create html head\n",
    "        tags$title(\"provBookR: Visualizing Data Stories\"), # Create html title\n",
    "        tags$body( # Create html body\n",
    "             htmltools::tagList(lapply(df.list,div.maker))# autogenerate pages\n",
    "        )\n",
    "    )\n",
    ")\n",
    "\n",
    "# Save the html file of the provbook\n",
    "file.name <- \"provBookR.clean.html\"\n",
    "save_html(provBookR.clean, file.name, background = \"white\", libdir = \"lib\")"
   ]
  },
  {
   "cell_type": "code",
   "execution_count": 17,
   "metadata": {},
   "outputs": [],
   "source": [
    "provBookR.doc.table.2 <- tags$html(\n",
    "    tags$head( # Create html head\n",
    "        tags$title(\"provBookR: Visualizing Data Stories\"), # Create html title\n",
    "        tags$body( # Create html body\n",
    "             htmltools::tagList(DT::datatable(df, options = list(dom = 't'), filter = list(position = \"top\")))# autogenerate pages\n",
    "        )\n",
    "    )\n",
    ")\n",
    "\n",
    "file.name <- \"provBookR.doc.table.2.html\"\n",
    "save_html(provBookR.doc.table.2, file.name, background = \"white\", libdir = \"lib\")"
   ]
  },
  {
   "cell_type": "code",
   "execution_count": 18,
   "metadata": {},
   "outputs": [
    {
     "ename": "ERROR",
     "evalue": "Error in tag(\"p\", list(...)): object 'content' not found\n",
     "output_type": "error",
     "traceback": [
      "Error in tag(\"p\", list(...)): object 'content' not found\nTraceback:\n",
      "1. div(class = \"bb-item\", div(class = \"bb-custom-side\", p(content)), \n .     div(class = \"bb-custom-side\", p(data.animations(content))))",
      "2. tags$div(...)",
      "3. tag(\"div\", list(...))",
      "4. div(class = \"bb-custom-side\", p(content))",
      "5. tags$div(...)",
      "6. tag(\"div\", list(...))",
      "7. p(content)",
      "8. tags$p(...)",
      "9. tag(\"p\", list(...))"
     ]
    }
   ],
   "source": [
    "div(class =\"bb-item\",\n",
    "    # data expression page\n",
    "    div(class =\"bb-custom-side\",\n",
    "      p(content)\n",
    "),\n",
    "    # animation page\n",
    "    div(class =\"bb-custom-side\",\n",
    "      p(data.animations(content))\n",
    "    )\n",
    ")\n",
    "\n",
    "# Create a function to apply across a list of dataframes\n",
    "div.maker <- function(x){\n",
    "    DT::datatable(x, options = list(dom = 't'), filter = list(position = \"top\"))\n",
    "}\n",
    "\n",
    "# Create a html structure for the provbook\n",
    "provBookR.clean <- tags$html(\n",
    "    tags$head( # Create html head\n",
    "        tags$title(\"provBookR: Visualizing Data Stories\"), # Create html title\n",
    "        tags$body( # Create html body\n",
    "             htmltools::tagList(lapply(df.list,div.maker))# autogenerate pages\n",
    "        )\n",
    "    )\n",
    ")"
   ]
  },
  {
   "cell_type": "code",
   "execution_count": 9,
   "metadata": {},
   "outputs": [
    {
     "data": {
      "text/html": [
       "<ol class=list-inline>\n",
       "\t<li>'5-my.data.frame.csv'</li>\n",
       "\t<li>'css'</li>\n",
       "\t<li>'fonts'</li>\n",
       "\t<li>'FOP-OUTLINE-2NDFORM-2PRINT'</li>\n",
       "\t<li>'img'</li>\n",
       "\t<li>'jss'</li>\n",
       "\t<li>'lib'</li>\n",
       "\t<li>'myscript-data-frame-2-5by5MAT.ipynb'</li>\n",
       "\t<li>'provBookR-Functions.ipynb'</li>\n",
       "\t<li>'provBookR.clean.html'</li>\n",
       "\t<li>'provBookR.doc.table.2.html'</li>\n",
       "\t<li>'provBookR.html.pages.ipynb'</li>\n",
       "\t<li>'provBookR.mvp.ipynb'</li>\n",
       "\t<li>'provBookR.provenance.collection.ipynb'</li>\n",
       "\t<li>'provBookR.test.01'</li>\n",
       "\t<li>'provBookR.test.snippet.01'</li>\n",
       "\t<li>'test'</li>\n",
       "\t<li>'WorkingWithExtensions .ipynb'</li>\n",
       "\t<li>'WorkingWithExtensionsR.ipynb'</li>\n",
       "</ol>\n"
      ],
      "text/latex": [
       "\\begin{enumerate*}\n",
       "\\item '5-my.data.frame.csv'\n",
       "\\item 'css'\n",
       "\\item 'fonts'\n",
       "\\item 'FOP-OUTLINE-2NDFORM-2PRINT'\n",
       "\\item 'img'\n",
       "\\item 'jss'\n",
       "\\item 'lib'\n",
       "\\item 'myscript-data-frame-2-5by5MAT.ipynb'\n",
       "\\item 'provBookR-Functions.ipynb'\n",
       "\\item 'provBookR.clean.html'\n",
       "\\item 'provBookR.doc.table.2.html'\n",
       "\\item 'provBookR.html.pages.ipynb'\n",
       "\\item 'provBookR.mvp.ipynb'\n",
       "\\item 'provBookR.provenance.collection.ipynb'\n",
       "\\item 'provBookR.test.01'\n",
       "\\item 'provBookR.test.snippet.01'\n",
       "\\item 'test'\n",
       "\\item 'WorkingWithExtensions .ipynb'\n",
       "\\item 'WorkingWithExtensionsR.ipynb'\n",
       "\\end{enumerate*}\n"
      ],
      "text/markdown": [
       "1. '5-my.data.frame.csv'\n",
       "2. 'css'\n",
       "3. 'fonts'\n",
       "4. 'FOP-OUTLINE-2NDFORM-2PRINT'\n",
       "5. 'img'\n",
       "6. 'jss'\n",
       "7. 'lib'\n",
       "8. 'myscript-data-frame-2-5by5MAT.ipynb'\n",
       "9. 'provBookR-Functions.ipynb'\n",
       "10. 'provBookR.clean.html'\n",
       "11. 'provBookR.doc.table.2.html'\n",
       "12. 'provBookR.html.pages.ipynb'\n",
       "13. 'provBookR.mvp.ipynb'\n",
       "14. 'provBookR.provenance.collection.ipynb'\n",
       "15. 'provBookR.test.01'\n",
       "16. 'provBookR.test.snippet.01'\n",
       "17. 'test'\n",
       "18. 'WorkingWithExtensions .ipynb'\n",
       "19. 'WorkingWithExtensionsR.ipynb'\n",
       "\n",
       "\n"
      ],
      "text/plain": [
       " [1] \"5-my.data.frame.csv\"                  \n",
       " [2] \"css\"                                  \n",
       " [3] \"fonts\"                                \n",
       " [4] \"FOP-OUTLINE-2NDFORM-2PRINT\"           \n",
       " [5] \"img\"                                  \n",
       " [6] \"jss\"                                  \n",
       " [7] \"lib\"                                  \n",
       " [8] \"myscript-data-frame-2-5by5MAT.ipynb\"  \n",
       " [9] \"provBookR-Functions.ipynb\"            \n",
       "[10] \"provBookR.clean.html\"                 \n",
       "[11] \"provBookR.doc.table.2.html\"           \n",
       "[12] \"provBookR.html.pages.ipynb\"           \n",
       "[13] \"provBookR.mvp.ipynb\"                  \n",
       "[14] \"provBookR.provenance.collection.ipynb\"\n",
       "[15] \"provBookR.test.01\"                    \n",
       "[16] \"provBookR.test.snippet.01\"            \n",
       "[17] \"test\"                                 \n",
       "[18] \"WorkingWithExtensions .ipynb\"         \n",
       "[19] \"WorkingWithExtensionsR.ipynb\"         "
      ]
     },
     "metadata": {},
     "output_type": "display_data"
    }
   ],
   "source": [
    "list.files()"
   ]
  }
 ],
 "metadata": {
  "kernelspec": {
   "display_name": "R",
   "language": "R",
   "name": "ir"
  },
  "language_info": {
   "codemirror_mode": "r",
   "file_extension": ".r",
   "mimetype": "text/x-r-source",
   "name": "R",
   "pygments_lexer": "r",
   "version": "3.6.0"
  }
 },
 "nbformat": 4,
 "nbformat_minor": 2
}
