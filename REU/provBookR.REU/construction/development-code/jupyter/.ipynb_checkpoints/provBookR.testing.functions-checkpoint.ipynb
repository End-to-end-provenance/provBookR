{
 "cells": [
  {
   "cell_type": "markdown",
   "metadata": {},
   "source": [
    "# 1. Running ```R provBookR()```"
   ]
  },
  {
   "cell_type": "code",
   "execution_count": null,
   "metadata": {},
   "outputs": [],
   "source": [
    "# Data tools:\n",
    "library(DT)\n",
    "library(gsubfn)\n",
    "library(lubridate)\n",
    "library(tidyverse)\n",
    "\n",
    "# HTML tools:\n",
    "library(knitr)\n",
    "library(htmltools)\n",
    "library(markdown)\n",
    "library(shiny)\n",
    "library(shinyjs)\n",
    "\n",
    "# Provenance tools:\n",
    "library(rdtLite) # Load Provenance Collector\n",
    "library(provGraphR) # Load Provenance Traveler\n",
    "library(provParseR) # Load Provenance Parser\n",
    "library(provDebugR) # Load Provenance Debugger\n",
    "library(provSummarizeR) # Load Provenance Summarizer\n",
    "library(Rclean)"
   ]
  },
  {
   "cell_type": "code",
   "execution_count": 15,
   "metadata": {},
   "outputs": [
    {
     "name": "stderr",
     "output_type": "stream",
     "text": [
      "provBookR browser initializing...\n",
      "Checking file extension...\n",
      "provBookR browser initialized!\n",
      "provBookR browser running, type \"help\" for more information or Q to quit\n",
      "prov.json\n"
     ]
    },
    {
     "name": "stdout",
     "output_type": "stream",
     "text": [
      "provBookR> help\n",
      "provBookR(operations)> [command][space][variable.name]:\n",
      "Quit provBookR                                : \"q\"   \n",
      "provBookR operations                          : \"help\"\n",
      "List R objects                                : \"ls\"  \n",
      "Show me how R object was created              : \"BO\"  \n",
      "Show me what this R object was used to create : \"AO\"  \n",
      "Summarize provenance                          : \"S\"   \n",
      "Debug script                                  : \"DB\"  \n",
      "Clean script                                  : \"C\"   \n"
     ]
    },
    {
     "name": "stderr",
     "output_type": "stream",
     "text": [
      "provBookR browser running, type \"help\" for more information or Q to quit\n",
      "prov.json\n"
     ]
    },
    {
     "name": "stdout",
     "output_type": "stream",
     "text": [
      "provBookR> S\n",
      "\n"
     ]
    },
    {
     "name": "stderr",
     "output_type": "stream",
     "text": [
      "Running provSummarizeR...\n"
     ]
    },
    {
     "name": "stdout",
     "output_type": "stream",
     "text": [
      "\n"
     ]
    },
    {
     "name": "stderr",
     "output_type": "stream",
     "text": [
      "provBookR browser running, type \"help\" for more information or Q to quit\n",
      "prov.json\n"
     ]
    },
    {
     "name": "stdout",
     "output_type": "stream",
     "text": [
      "provBookR> C\n",
      "\n"
     ]
    },
    {
     "name": "stderr",
     "output_type": "stream",
     "text": [
      "Running RClean...\n"
     ]
    },
    {
     "name": "stdout",
     "output_type": "stream",
     "text": [
      "\n"
     ]
    },
    {
     "name": "stderr",
     "output_type": "stream",
     "text": [
      "provBookR browser running, type \"help\" for more information or Q to quit\n",
      "prov.json\n"
     ]
    },
    {
     "name": "stdout",
     "output_type": "stream",
     "text": [
      "provBookR> DB\n",
      "\n"
     ]
    },
    {
     "name": "stderr",
     "output_type": "stream",
     "text": [
      "Running provDebugR...\n"
     ]
    },
    {
     "name": "stdout",
     "output_type": "stream",
     "text": [
      "Debug> Q\n",
      "\n",
      "Debugger initialized, type \"help\" for more information or Q to quit\n",
      "/Users/erickoduniyi/Documents/School/KU/Academics/2018-2019/Research/Hardvard-Forest/Projects/Fruits-Of-Provenance/Construction/Development-Code/Jupyter/myscript.r\n",
      "2: f <- function(x) {\ty <- x^2\treturn(y)}\n",
      "[1] \"Quitting\"\n"
     ]
    },
    {
     "name": "stderr",
     "output_type": "stream",
     "text": [
      "provBookR browser running, type \"help\" for more information or Q to quit\n",
      "prov.json\n"
     ]
    },
    {
     "name": "stdout",
     "output_type": "stream",
     "text": [
      "provBookR> ls\n",
      "[1] \"f\"             \"a\"             \"b\"             \"dev.off.4.pdf\"\n"
     ]
    },
    {
     "name": "stderr",
     "output_type": "stream",
     "text": [
      "provBookR browser running, type \"help\" for more information or Q to quit\n",
      "prov.json\n"
     ]
    },
    {
     "name": "stdout",
     "output_type": "stream",
     "text": [
      "provBookR> BO b\n",
      "[1] \"a <- 10\"                                 \n",
      "[2] \"a\"                                       \n",
      "[3] \"f <- function(x) {\\ty <- x^2\\treturn(y)}\"\n",
      "[4] \"f\"                                       \n",
      "[5] \"b <- f(a)\"                               \n",
      "[6] \"b\"                                       \n"
     ]
    },
    {
     "name": "stderr",
     "output_type": "stream",
     "text": [
      "Generate a provbook for this object history? (Y/N):\n"
     ]
    },
    {
     "name": "stdout",
     "output_type": "stream",
     "text": [
      "provBookR> N\n"
     ]
    },
    {
     "name": "stderr",
     "output_type": "stream",
     "text": [
      "provBookR browser running, type \"help\" for more information or Q to quit\n",
      "prov.json\n"
     ]
    },
    {
     "name": "stdout",
     "output_type": "stream",
     "text": [
      "provBookR> Q\n"
     ]
    },
    {
     "name": "stderr",
     "output_type": "stream",
     "text": [
      "Are you sure you want to quit? (Y/N):\n"
     ]
    },
    {
     "name": "stdout",
     "output_type": "stream",
     "text": [
      "provBookR> Y\n"
     ]
    }
   ],
   "source": [
    "# Run provBookR with full options specified (E2E provenance tools)\n",
    "provBookR(\"prov.json\", mode=\"full\")"
   ]
  },
  {
   "cell_type": "code",
   "execution_count": 13,
   "metadata": {},
   "outputs": [
    {
     "name": "stderr",
     "output_type": "stream",
     "text": [
      "provBookR browser initializing...\n",
      "Checking file extension...\n",
      "provBookR browser initialized!\n",
      "provBookR browser running, type \"help\" for more information or Q to quit\n",
      "prov.json\n"
     ]
    },
    {
     "name": "stdout",
     "output_type": "stream",
     "text": [
      "provBookR> help\n",
      "provBookR operations [command][space][variable.name]:\n",
      "Quit provBookR                                : \"q\"   \n",
      "provBookR operations                          : \"help\"\n",
      "List R objects                                : \"ls\"  \n",
      "Show me how R object was created              : \"BO\"  \n",
      "Show me what this R object was used to create : \"AO\"  \n",
      "Summarize provenance                          : \"S\"   \n",
      "Debug script                                  : \"DB\"  \n",
      "Clean script                                  : \"C\"   \n"
     ]
    },
    {
     "name": "stderr",
     "output_type": "stream",
     "text": [
      "provBookR browser running, type \"help\" for more information or Q to quit\n",
      "prov.json\n"
     ]
    },
    {
     "name": "stdout",
     "output_type": "stream",
     "text": [
      "provBookR> q\n"
     ]
    },
    {
     "name": "stderr",
     "output_type": "stream",
     "text": [
      "Are you sure you want to quit? (Y/N):\n"
     ]
    },
    {
     "name": "stdout",
     "output_type": "stream",
     "text": [
      "provBookR> y\n"
     ]
    }
   ],
   "source": [
    "# Run provBookR with full option specified (quit/start)\n",
    "provBookR(\"prov.json\", mode=\"full\")"
   ]
  },
  {
   "cell_type": "code",
   "execution_count": 12,
   "metadata": {},
   "outputs": [
    {
     "name": "stderr",
     "output_type": "stream",
     "text": [
      "provBookR browser initializing...\n",
      "Checking file extension...\n",
      "provBookR browser initialized!\n",
      "provBookR browser running, type \"help\" for more information or Q to quit\n",
      "prov.json\n"
     ]
    },
    {
     "name": "stdout",
     "output_type": "stream",
     "text": [
      "provBookR> help\n",
      "provBookR operations [command][space][variable.name]:\n",
      "Quit provBookR                                : \"q\"   \n",
      "provBookR operations                          : \"help\"\n",
      "List R objects                                : \"ls\"  \n",
      "Show me how R object was created              : \"BO\"  \n",
      "Show me what this R object was used to create : \"AO\"  \n",
      "Summarize provenance                          : \"S\"   \n",
      "Debug script                                  : \"DB\"  \n",
      "Clean script                                  : \"C\"   \n"
     ]
    },
    {
     "name": "stderr",
     "output_type": "stream",
     "text": [
      "provBookR browser running, type \"help\" for more information or Q to quit\n",
      "prov.json\n"
     ]
    },
    {
     "name": "stdout",
     "output_type": "stream",
     "text": [
      "provBookR> ls\n",
      "[1] \"f\"             \"a\"             \"b\"             \"dev.off.4.pdf\"\n"
     ]
    },
    {
     "name": "stderr",
     "output_type": "stream",
     "text": [
      "provBookR browser running, type \"help\" for more information or Q to quit\n",
      "prov.json\n"
     ]
    },
    {
     "name": "stdout",
     "output_type": "stream",
     "text": [
      "provBookR> BO f\n",
      "[1] \"f <- function(x) {\\ty <- x^2\\treturn(y)}\"\n",
      "[2] \"f\"                                       \n"
     ]
    },
    {
     "name": "stderr",
     "output_type": "stream",
     "text": [
      "Generate a provbook for this object history? (Y/N):\n"
     ]
    },
    {
     "name": "stdout",
     "output_type": "stream",
     "text": [
      "provBookR> N\n"
     ]
    },
    {
     "name": "stderr",
     "output_type": "stream",
     "text": [
      "provBookR browser running, type \"help\" for more information or Q to quit\n",
      "prov.json\n"
     ]
    },
    {
     "name": "stdout",
     "output_type": "stream",
     "text": [
      "provBookR> AO f\n",
      "[1] \"b\"         \"b <- f(a)\" \"f\"        \n"
     ]
    },
    {
     "name": "stderr",
     "output_type": "stream",
     "text": [
      "Generate a provbook for this object history? (Y/N):\n"
     ]
    },
    {
     "name": "stdout",
     "output_type": "stream",
     "text": [
      "provBookR> Y\n"
     ]
    },
    {
     "name": "stderr",
     "output_type": "stream",
     "text": [
      "Making provbook for \"f\" from prov.json...\n",
      "Done!\n"
     ]
    },
    {
     "name": "stdout",
     "output_type": "stream",
     "text": [
      "provbook for variable \"f\" is stored in /Users/erickoduniyi/Documents/School/KU/Academics/2018-2019/Research/Hardvard-Forest/Projects/Fruits-Of-Provenance/Construction/Development-Code/Jupyter"
     ]
    },
    {
     "name": "stderr",
     "output_type": "stream",
     "text": [
      "provBookR browser running, type \"help\" for more information or Q to quit\n",
      "prov.json\n"
     ]
    },
    {
     "name": "stdout",
     "output_type": "stream",
     "text": [
      "provBookR> quit\n"
     ]
    },
    {
     "name": "stderr",
     "output_type": "stream",
     "text": [
      "Are you sure you want to quit? (Y/N):\n"
     ]
    },
    {
     "name": "stdout",
     "output_type": "stream",
     "text": [
      "provBookR> Y\n"
     ]
    }
   ],
   "source": [
    "# Run provBookR with full option specified (generate provbook)\n",
    "provBookR(\"prov.json\", mode=\"full\")"
   ]
  },
  {
   "cell_type": "code",
   "execution_count": 11,
   "metadata": {},
   "outputs": [
    {
     "name": "stderr",
     "output_type": "stream",
     "text": [
      "variable name?: \n"
     ]
    },
    {
     "name": "stdout",
     "output_type": "stream",
     "text": [
      "provBookR.lite> f\n"
     ]
    },
    {
     "name": "stderr",
     "output_type": "stream",
     "text": [
      "Running provBookR lite for f from prov.json...\n",
      "Checking file extension...\n"
     ]
    },
    {
     "name": "stdout",
     "output_type": "stream",
     "text": [
      "[1] \"f <- function(x) {\\ty <- x^2\\treturn(y)}\"\n",
      "[2] \"f\"                                       \n"
     ]
    },
    {
     "name": "stderr",
     "output_type": "stream",
     "text": [
      "Generate a provbook for this object history? (Y/N):\n"
     ]
    },
    {
     "name": "stdout",
     "output_type": "stream",
     "text": [
      "provBookR> Y\n"
     ]
    },
    {
     "name": "stderr",
     "output_type": "stream",
     "text": [
      "Done!\n"
     ]
    },
    {
     "name": "stdout",
     "output_type": "stream",
     "text": [
      "provbook for variable \"f\" is stored in /Users/erickoduniyi/Documents/School/KU/Academics/2018-2019/Research/Hardvard-Forest/Projects/Fruits-Of-Provenance/Construction/Development-Code/Jupyter"
     ]
    }
   ],
   "source": [
    "# Run provBookR with lite option specified\n",
    "provBookR(\"prov.json\", mode=\"lite\")"
   ]
  },
  {
   "cell_type": "code",
   "execution_count": 7,
   "metadata": {},
   "outputs": [],
   "source": [
    "# Load browser\n",
    "\t# Query Provenance\n",
    "\t\t# Summarize provenance\n",
    "\t\t# Move Forward\n",
    "\t\t\t# Error Handling: Check for malicious input\n",
    "\t\t# Move Backward\n",
    "\t\t\t# Error Handling: Check for malicious input\n",
    "\t\t# Generate provbook\n",
    "\t\t\t# Error Handling: make sure data pipeline is robust\n",
    "\t\t\t# Add annotations\n",
    "\t\t\t\t# Error Handling: Check for malicious input\n",
    "\t\t\t# Specify layout\n",
    "\t\t\t\t# Error Handling: Check for malicious input\n",
    "\t\t     # Create dynamic html\n",
    "\t\t\t     \t# Error Handling: make sure data pipeline is robust\n",
    "\t\t\t# provbook.html()\n",
    "# TODO: Run provBookR with no mode specified options\n",
    "provBookR <- function(file.name, mode){\n",
    "  \n",
    "  # Collect the user input mode\n",
    "  switch(tolower(mode),\n",
    "         \"lite\" = provBookR.lite(file.name), # \"lite\" mode\n",
    "         \"full\" = provBookR.prov.browse(file.name), # \"full\" mode\n",
    "         \"default\" = provBookR.prov.browse(file.name) # Default: \"full\" mode\n",
    "         )\n",
    "}\n",
    "\n",
    "# \"provBookRLite\"\n",
    "provBookR.lite <- function(file.name){\n",
    "    \n",
    "    # Ask user for data.object.name\n",
    "    message(\"variable name?: \")\n",
    "    data.object.name <- readline(prompt=\"provBookR.lite> \")\n",
    "    \n",
    "    # Alert user\n",
    "    message(paste(\"Running provBookR lite for \", data.object.name, \" \", \"from \", file.name, \"...\", sep=\"\"))\n",
    "\n",
    "    # Check the file type of file.name\n",
    "    if(json.check(file.name)){\n",
    "        # Query provenance\n",
    "        provBookR.prov.querying(file.name, data.object.name, \"BO\")\n",
    "    }else{\n",
    "        # Record provenance\n",
    "        recorded.prov <- provBookR.prov.recording(file.name)\n",
    "        # Query provenance\n",
    "        provBookR.prov.querying(recorded.prov, data.object.name, \"BO\")\n",
    "    }\n",
    "  \n",
    "    message(\"Generate a provbook for this object history? (Y/N):\") # Output message to the user\n",
    "    user.input <- tolower(readline(prompt=\"provBookR> \")) # Collect user input\n",
    "    if(user.input == \"y\"){\n",
    "        \n",
    "        # Generate provbook\n",
    "        # Call provbook generator\n",
    "        # UI.user.input.BG(prov.json, data.object.name)\n",
    "        message(\"Done!\")\n",
    "        cat(paste(\"provbook for variable \", \"\\\"\", data.object.name, \"\\\"\", \" is stored in \", getwd(), sep=\"\"))\n",
    "        \n",
    "    }else{\n",
    "        stop(\"closing provBookr.lite...\") # Closing provBookR.lite()\n",
    "    }\n",
    "    \n",
    "\n",
    "}\n",
    "\n",
    "# Check if the input file is a .json or .R file\n",
    "json.check <- function(file.name){\n",
    "  message(\"Checking file extension...\") # Output message to the user\n",
    "  if(grepl(\"\\\\.json\", file.name)){\n",
    "    return(TRUE) # The file is a .json\n",
    "  }\n",
    "  else if(grepl(\"\\\\.r\", file.name) | grepl(\"\\\\.R\", file.name) | grepl(\"\\\\.rmd\", file.name)){\n",
    "    return(FALSE) # The file is a .R file\n",
    "  }else{\n",
    "    stop(\"This is neither a .JSON, .R, or .RMD file\") # Dude...give me the correct input, please\n",
    "  }\n",
    "}"
   ]
  },
  {
   "cell_type": "markdown",
   "metadata": {},
   "source": [
    "# 2. ```provBookR.browser()```"
   ]
  },
  {
   "cell_type": "markdown",
   "metadata": {},
   "source": [
    "The inspiration for the```provBookR.browser()``` comes from the ```debug.browser()``` function. In the say way, users can browser through the lineage collected first, and then, determine if they would like to generate a provbook"
   ]
  },
  {
   "cell_type": "markdown",
   "metadata": {},
   "source": [
    "## 2.1 ```debug.browser()```"
   ]
  },
  {
   "cell_type": "code",
   "execution_count": 8,
   "metadata": {},
   "outputs": [],
   "source": [
    "library(provDebugR)\n",
    "debug.init(\"prov.json\")"
   ]
  },
  {
   "cell_type": "code",
   "execution_count": 9,
   "metadata": {},
   "outputs": [
    {
     "name": "stdout",
     "output_type": "stream",
     "text": [
      "Debug> Q\n",
      "Debugger initialized, type \"help\" for more information or Q to quit\n",
      "/Users/erickoduniyi/Documents/School/KU/Academics/2018-2019/Research/Hardvard-Forest/Projects/Fruits-Of-Provenance/Construction/Development-Code/Jupyter/myscript.r\n",
      "2: f <- function(x) {\ty <- x^2\treturn(y)}\n",
      "[1] \"Quitting\"\n"
     ]
    }
   ],
   "source": [
    "debug.browser()"
   ]
  },
  {
   "cell_type": "code",
   "execution_count": 6,
   "metadata": {},
   "outputs": [],
   "source": [
    "# provBookR browser interface\n",
    "# Input: File name\n",
    "# Output: Starts provBook.browser()\n",
    "provBookR.prov.browse <- function(file.name){\n",
    "\n",
    "  # Begin initializing browser\n",
    "  initializing.browser.message <- \"provBookR browser initializing...\"\n",
    "  message(initializing.browser.message) # Output message to the user\n",
    "\n",
    "  # Check the file type of file.name\n",
    "  if(json.check(file.name)){\n",
    "    # Start browser\n",
    "    prov.browser(file.name) \n",
    "  }else{\n",
    "    # Record provenance\n",
    "    recorded.prov <- provBookR.prov.recording(file.name) # outputs a .json\n",
    "\n",
    "    # Start browser\n",
    "    prov.browser(recorded.prov)\n",
    "  } \n",
    "}"
   ]
  },
  {
   "cell_type": "code",
   "execution_count": 4,
   "metadata": {},
   "outputs": [],
   "source": [
    "# provBookR browser interface\n",
    "# Input: .json file \n",
    "# Output: provbook options\n",
    "prov.browser <- function(file.name){\n",
    "    \n",
    "  # Output message to the user  \n",
    "  message(\"provBookR browser initialized!\") \n",
    "\n",
    "  # Start browser loop...\n",
    "  UI.condition <- TRUE\n",
    "  while(UI.condition){\n",
    "\n",
    "    # Let the user know the browser is running\n",
    "    initial.options.message <- \"provBookR browser running, type \\\"help\\\" for more information or Q to quit\"\n",
    "    initial.options.prompt <- paste(initial.options.message, file.name, sep=\"\\n\")\n",
    "    message(initial.options.prompt) # Output message to the user\n",
    "    \n",
    "    # Collecting initial user input\n",
    "    user.input <- readline(prompt=\"provBookR> \")\n",
    "    user.input.strip <- strsplit(user.input, \"\\\\s+\")[[1]]\n",
    "    user.input.command <- user.input.strip[1]\n",
    "    data.object.name <- user.input.strip[2]\n",
    "    if(user.input.command == \"q\" | user.input.command == \"Q\" | tolower(user.input.command) == \"quit\"){\n",
    "      # Call provbook quit menu\n",
    "      UI.condition <- UI.user.input.quit()\n",
    "    }else if(user.input.command == \"help\" | user.input.command == \"h\" | user.input.command == \"?\"){\n",
    "      # Call provbook help menu\n",
    "      UI.user.input.help()\n",
    "    }else if(user.input.command == \"ls\" | user.input.command == \"LS\"){\n",
    "        # Print the nodes\n",
    "        provBookR.print.nodes(file.name)\n",
    "    }else if(user.input.command == \"ao\" | user.input.command == \"AO\"){\n",
    "      # Call provbook forweard lineage\n",
    "      UI.user.input.AO(file.name, data.object.name, \"AO\")\n",
    "    }else if(user.input.command == \"bo\" | user.input.command == \"BO\"){\n",
    "      # Call provbook backward lineage\n",
    "      UI.user.input.BO(file.name, data.object.name, \"BO\")\n",
    "    }else if(user.input.command == \"s\" | user.input.command == \"S\"){\n",
    "      # Call provSummarizeR\n",
    "      UI.user.input.S(file.name)  \n",
    "    }else if(user.input.command == \"db\"| user.input.command == \"DB\"){\n",
    "      # Call provDebugR\n",
    "      UI.user.input.DB(file.name)\n",
    "    }else if(user.input.command == \"c\" | user.input.command == \"C\" | tolower(user.input.command)  == \"clean\"){\n",
    "      # Call Rclean\n",
    "      UI.user.input.C(file.name)\n",
    "    }else{\n",
    "        # Output message to the user\n",
    "        message(paste(\"command not supported\"), sep=\"\\n\")\n",
    "    }\n",
    "  }\n",
    "}\n",
    "\n",
    "# browser \"quit\" helper function\n",
    "# Input: User input\n",
    "# Output: Looping condition\n",
    "UI.user.input.quit  <- function(){\n",
    "  \n",
    "  # Alert user about their quit options  \n",
    "  message(\"Are you sure you want to quit? (Y/N):\")\n",
    "  user.input <- tolower(readline(prompt=\"provBookR> \")) # Collect user input\n",
    "  if(user.input == \"y\"){\n",
    "    return(FALSE) # quit provBookR.browser()\n",
    "  }else{\n",
    "    return(TRUE) # continue provBookR.browser()\n",
    "  }\n",
    "}\n",
    "\n",
    "# browser \"help\" helper function\n",
    "# Input: User input\n",
    "# Output: Help menu\n",
    "UI.user.input.help  <- function(){\n",
    "  \n",
    "  # Create user \"help menu\"\n",
    "  cat(\"provBookR(operations)> [command][space][variable.name]:\\n\")\n",
    "  options <- c(\"Quit provBookR\", \"provBookR operations\", \"List R objects\", \"Show me how R object was created\",\n",
    "               \"Show me what this R object was used to create\", \"Summarize provenance\", \"Debug script\", \"Clean script\")\n",
    "  options.df <- data.frame(options = options, sep = ':', nchar = c(\"\\\"q\\\"\", \"\\\"help\\\"\", \"\\\"ls\\\"\", \"\\\"BO\\\"\", \"\\\"AO\\\"\",\n",
    "                                                                  \"\\\"S\\\"\", \"\\\"DB\\\"\", \"\\\"C\\\"\"))\n",
    "  # Output the help menu to the user  \n",
    "  menu <- capture.output(gdata::write.fwf(options.df, width = c(max(nchar(options)), 1, 6), justify = 'l'))[-1]\n",
    "  cat(menu, sep = '\\n')\n",
    "}\n",
    "      \n",
    "# Prints list of data.object.names\n",
    "# Input: Parsed .json\n",
    "# Output: Printed list of variables\n",
    "# TODO: Might need to include procedure nodes\n",
    "provBookR.print.nodes <- function(prov.json){\n",
    "    \n",
    "    # Parse .json file\n",
    "    parsed.json <- prov.parse(prov.json)\n",
    "\n",
    "    # Print procedure and data nodes\n",
    "    data.nodes <- get.data.nodes(parsed.json)  # Get the data nodes\n",
    "    return(print(data.nodes[, c(\"name\")]))\n",
    "}\n",
    "\n",
    "# Collect forward lineage\n",
    "# Input: .json file, data.object.name, history\n",
    "# Output: provbook\n",
    "UI.user.input.AO <- function(prov.json, data.object.name, history){\n",
    "    \n",
    "    # Output lineage\n",
    "    provBookR.prov.querying(prov.json, data.object.name, history)\n",
    "    \n",
    "    # Ask the user if they would like to generate a provbook\n",
    "    message(\"Generate a provbook for this object history? (Y/N):\") # Output message to the user\n",
    "    user.input <- tolower(readline(prompt=\"provBookR> \")) # Collect user input\n",
    "    if(user.input == \"y\"){\n",
    "        \n",
    "        # Call provbook generator\n",
    "        UI.user.input.BG(prov.json, data.object.name)\n",
    "        \n",
    "    }else{\n",
    "        return(TRUE) # Continue provBookR.browser()\n",
    "    }\n",
    "}\n",
    "\n",
    "# Collect backward lineage\n",
    "# Input: .json file, data.object.name, history\n",
    "# Output: provbook      \n",
    "UI.user.input.BO <- function(prov.json, data.object.name, history){\n",
    "\n",
    "    # Output lineage\n",
    "    provBookR.prov.querying(prov.json, data.object.name, history)\n",
    "    \n",
    "    # Ask the user if they would like to generate a provbook\n",
    "    message(\"Generate a provbook for this object history? (Y/N):\") # Output message to the user\n",
    "    user.input <- tolower(readline(prompt=\"provBookR> \")) # Collect user input\n",
    "    if(user.input == \"y\"){\n",
    "        \n",
    "        # Call provbook generator\n",
    "        UI.user.input.BG(prov.json, data.object.name)\n",
    "\n",
    "    }else{\n",
    "        return(TRUE) # Continue provBookR.browser() \n",
    "    }   \n",
    "}\n",
    "             \n",
    "# provSummarizeR helper function\n",
    "# Input: prov.json\n",
    "# Output: Summarized provenance\n",
    "UI.user.input.S  <- function(file.name){\n",
    "    \n",
    "    # Run provSummaizeR\n",
    "    cat(\"\\n\")\n",
    "    message(\"Running provSummarizeR...\")\n",
    "    cat(\"\\n\")\n",
    "    prov.summarize.run(file.name)\n",
    "}\n",
    "             \n",
    "# provDebugR \"BG\" helper function\n",
    "# Input: prov.json\n",
    "# Output: provDebugR\n",
    "UI.user.input.DB  <- function(file.name){\n",
    "    \n",
    "    # Run provDebugR\n",
    "    cat(\"\\n\")\n",
    "    message(\"Running provDebugR...\")\n",
    "    cat(\"\\n\")\n",
    "    debug.init(\"prov.json\")\n",
    "    debug.browser()\n",
    "\n",
    "}\n",
    "\n",
    "# browser \"BG\" helper function\n",
    "# Input: prov.json\n",
    "# Output: Cleaned .R script\n",
    "UI.user.input.C  <- function(file.name, data.object.name){\n",
    "    \n",
    "    # Run RClean\n",
    "    cat(\"\\n\")\n",
    "    message(\"Running RClean...\") \n",
    "    cat(\"\\n\")\n",
    "    options(prov.json = readLines(file.name))\n",
    "    my.code <- clean(data.object.name)\n",
    "    write.code(my.code, file = paste(data.object.name,\".R\", sep=\"\"))\n",
    "    \n",
    "}\n",
    "\n",
    "# browser \"BG\" helper function\n",
    "# Input: User input\n",
    "# Output: provbook\n",
    "UI.user.input.BG  <- function(prov.json, data.object.name){\n",
    "    \n",
    "    # Generate provbook\n",
    "    message(paste(\"Making provbook for \", \"\\\"\", data.object.name, \"\\\"\", \" \", \"from \", prov.json, \"...\", sep=\"\"))\n",
    "    message(\"Done!\")\n",
    "    cat(paste(\"provbook for variable \", \"\\\"\", data.object.name, \"\\\"\", \" is stored in \", getwd(), sep=\"\"))\n",
    "}     "
   ]
  },
  {
   "cell_type": "markdown",
   "metadata": {},
   "source": [
    "# 2.2 ```R provBookR.prov.recording()```"
   ]
  },
  {
   "cell_type": "code",
   "execution_count": 3,
   "metadata": {},
   "outputs": [],
   "source": [
    "# provBookR: Recording\n",
    "# Inputs: A .R file or .json file\n",
    "# Outputs: Recorded provenance\n",
    "provBookR.prov.recording <- function(file.name){\n",
    "\n",
    "    # Alert the user about the provenance collection process\n",
    "    message(paste(\"Collecting provenance for \", file.name, \"...\"))\n",
    "\n",
    "    # Collect the provenance specifying the maximum snapshot size\n",
    "    rdtLite::prov.run(file.name, prov.dir=\".\", overwrite=FALSE, snapshot.size = Inf)\n",
    "\n",
    "    # Create a directory to store the collected provenance\n",
    "    dir.create(\"provenance\")  \n",
    "\n",
    "    # Collect the generated provenance directories\n",
    "    # Only collect the folders that have \"prov_file.name_\"\n",
    "    # This allows provBook to check all the current and previously collected provenance directories\n",
    "    prov.dir.names <- list.files(pattern=\"^prov_\")\n",
    "    path.to.prov.dir <- prov.dir.names[length(prov.dir.names)] # Gets the last datetime \n",
    "    path.to.json <- paste(getwd(),\"/provenance/\", path.to.prov.dir, \"/prov.json\", sep=\"\")\n",
    "    file.copy(path.to.prov.dir, \"provenance\", recursive=TRUE, overwrite=TRUE)\n",
    " \n",
    "    # Return the user the path to the created provenance\n",
    "    return(path.to.json)\n",
    "}"
   ]
  },
  {
   "cell_type": "markdown",
   "metadata": {},
   "source": [
    "# 2.3 ```R provBookR.prov.querying()```"
   ]
  },
  {
   "cell_type": "code",
   "execution_count": 2,
   "metadata": {},
   "outputs": [],
   "source": [
    "# provBookR: Querying\n",
    "# Inputs: .json file\n",
    "# Outputs: Parsed provenance\n",
    "provBookR.prov.querying <- function(prov.json, data.object.name, history){\n",
    "    \n",
    "  # Parse the prov.json file:\n",
    "  parsed.json <- prov.parse(prov.json)\n",
    "  if(provBookR.check.nodes(parsed.json, data.object.name)){\n",
    "      \n",
    "      # Get the corresponding node.id\n",
    "      parsed.prov <- get.variable.named(prov.parse(prov.json), data.object.name) # Query the provenance             \n",
    "      node.id <- parsed.prov[1, c(\"id\")]\n",
    "      \n",
    "      # Collect the variable lineage for the procedure node\n",
    "      switch(history, \"AO\" = lineage <- provBookR.lineage(prov.json, node.id, \"AO\"),\n",
    "                      \"BO\" = lineage <- provBookR.lineage(prov.json, node.id, \"BO\") )\n",
    "      variable.history <- provBookR.variable.lineage(prov.json, lineage)\n",
    "      return(print(variable.history))\n",
    "  }else{\n",
    "        message(paste(\"provenance for\", data.object.name, \"does not exist\", sep=\" \"))\n",
    "  }\n",
    "}\n",
    "\n",
    "# Checks the existence of data.object.name\n",
    "# Input: Parsed .json, data object name\n",
    "# Output: Boolean\n",
    "provBookR.check.nodes <- function(parsed.json, data.object.name){\n",
    "    \n",
    "    # Get the data node names\n",
    "    data.nodes <- get.data.nodes(parsed.json)\n",
    "    \n",
    "    # Check if the data.object.name exist\n",
    "    if(data.object.name %in% data.nodes[, c(\"name\")]){\n",
    "        return(TRUE) # data.object.name is in the provenance\n",
    "    }else{\n",
    "        return(FALSE) # data.object.name is not available\n",
    "    }    \n",
    "}\n",
    "\n",
    "# Shows data.object.name lineage\n",
    "# Input: Parsed .json, lineage\n",
    "# Output: Variable lineage\n",
    "provBookR.variable.lineage <- function(prov.json, lineage){\n",
    "    \n",
    "    # Collect the variable lineage\n",
    "    proc.nodes <- get.proc.nodes(prov.parse(prov.json)) # Collect the procedure or data nodes  \n",
    "    data.nodes <- get.data.nodes(prov.parse(prov.json)) # Collect the procedure or data nodes  \n",
    "    var.vector <- c()\n",
    "    for(i in 1:length(lineage)){\n",
    "        if(grepl(\"p\", lineage[i])){\n",
    "            # Collect procedure nodes\n",
    "            var.vector <- c(proc.nodes[proc.nodes$id == lineage[i], c(\"name\")], var.vector)\n",
    "        }else{\n",
    "            # Collect data nodes\n",
    "            var.vector <- c(data.nodes[data.nodes$id == lineage[i], c(\"name\")], var.vector)\n",
    "        }\n",
    "    }\n",
    "    # Give the user back a lineage of the R object\n",
    "    return(var.vector)\n",
    "}\n",
    "\n",
    "# Collects provenance lineage\n",
    "# Input: .json file, node.id, direction\n",
    "# Output: Node lineage\n",
    "provBookR.lineage <- function(prov.json, node.id, direction){\n",
    "\n",
    "  # Create adj.graph\n",
    "  adj.graph <- create.graph(prov.json, isFile = T)\n",
    "\n",
    "  # Collect the lineage from the provenance\n",
    "  switch(direction,\n",
    "         \"AO\" = lineage <- get.lineage(adj.graph, node.id, forward = T),\n",
    "         \"BO\" = lineage <- get.lineage(adj.graph, node.id, forward = F),\n",
    "         \"default\" = message(\"provenance direction has not been specified.\") # Output message to the user\n",
    "  )\n",
    "  \n",
    "  # Return the lineage from provGraphR\n",
    "  return(lineage)\n",
    "}"
   ]
  },
  {
   "cell_type": "markdown",
   "metadata": {},
   "source": [
    "# 2.4 ```provBookR.prov.processing()```"
   ]
  },
  {
   "cell_type": "markdown",
   "metadata": {},
   "source": [
    "# 2.5 ```provBookR.prov.presentation()```"
   ]
  },
  {
   "cell_type": "code",
   "execution_count": null,
   "metadata": {},
   "outputs": [],
   "source": []
  }
 ],
 "metadata": {
  "kernelspec": {
   "display_name": "R",
   "language": "R",
   "name": "ir"
  },
  "language_info": {
   "codemirror_mode": "r",
   "file_extension": ".r",
   "mimetype": "text/x-r-source",
   "name": "R",
   "pygments_lexer": "r",
   "version": "3.6.0"
  }
 },
 "nbformat": 4,
 "nbformat_minor": 2
}
