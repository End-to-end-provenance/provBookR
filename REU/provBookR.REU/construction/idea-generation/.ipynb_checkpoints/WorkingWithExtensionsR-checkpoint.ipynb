{
 "cells": [
  {
   "cell_type": "code",
   "execution_count": 7,
   "metadata": {},
   "outputs": [
    {
     "data": {
      "text/html": [
       "<ol class=list-inline>\n",
       "\t<li>'provBookR-Functions.ipynb'</li>\n",
       "\t<li>'WorkingWithExtensions .ipynb'</li>\n",
       "\t<li>'WorkingWithExtensionsR.ipynb'</li>\n",
       "</ol>\n"
      ],
      "text/latex": [
       "\\begin{enumerate*}\n",
       "\\item 'provBookR-Functions.ipynb'\n",
       "\\item 'WorkingWithExtensions .ipynb'\n",
       "\\item 'WorkingWithExtensionsR.ipynb'\n",
       "\\end{enumerate*}\n"
      ],
      "text/markdown": [
       "1. 'provBookR-Functions.ipynb'\n",
       "2. 'WorkingWithExtensions .ipynb'\n",
       "3. 'WorkingWithExtensionsR.ipynb'\n",
       "\n",
       "\n"
      ],
      "text/plain": [
       "[1] \"provBookR-Functions.ipynb\"    \"WorkingWithExtensions .ipynb\"\n",
       "[3] \"WorkingWithExtensionsR.ipynb\""
      ]
     },
     "metadata": {},
     "output_type": "display_data"
    }
   ],
   "source": [
    "# Test R with Hello World!\n",
    "list.files()"
   ]
  },
  {
   "cell_type": "markdown",
   "metadata": {},
   "source": [
    "## Working With Magic Keys in R\n",
    "Turns out that the IRkernel does not support the magic commands in R, so if you want to run magic commands and R\n",
    "You need to do this from the Python with the ```R%``` magic commands. That being said, there are interfaces from R to python like the ```rPython``` and ```PythonInR``` packages."
   ]
  },
  {
   "cell_type": "code",
   "execution_count": 5,
   "metadata": {},
   "outputs": [
    {
     "name": "stderr",
     "output_type": "stream",
     "text": [
      "Installing package into ‘/Users/erickoduniyi/Library/R/3.6/library’\n",
      "(as ‘lib’ is unspecified)\n",
      "also installing the dependency ‘RJSONIO’\n",
      "\n"
     ]
    },
    {
     "name": "stdout",
     "output_type": "stream",
     "text": [
      "\n",
      "The downloaded binary packages are in\n",
      "\t/var/folders/bg/wxdnd22s695f4569t0v1v2x80000gn/T//RtmpDKeGBL/downloaded_packages\n"
     ]
    }
   ],
   "source": [
    "# install rPython package to work with IPython constructs\n",
    "install.packages(\"rPython\")"
   ]
  },
  {
   "cell_type": "code",
   "execution_count": 9,
   "metadata": {},
   "outputs": [
    {
     "name": "stderr",
     "output_type": "stream",
     "text": [
      "Installing package into ‘/Users/erickoduniyi/Library/R/3.6/library’\n",
      "(as ‘lib’ is unspecified)\n",
      "also installing the dependency ‘pack’\n",
      "\n"
     ]
    },
    {
     "name": "stdout",
     "output_type": "stream",
     "text": [
      "\n",
      "The downloaded binary packages are in\n",
      "\t/var/folders/bg/wxdnd22s695f4569t0v1v2x80000gn/T//RtmpDKeGBL/downloaded_packages\n"
     ]
    }
   ],
   "source": [
    "install.packages(\"PythonInR\")"
   ]
  },
  {
   "cell_type": "code",
   "execution_count": 10,
   "metadata": {},
   "outputs": [
    {
     "name": "stdout",
     "output_type": "stream",
     "text": [
      "R is already connected to Python!\n"
     ]
    }
   ],
   "source": [
    "library(rPython)\n",
    "library(PythonInR)"
   ]
  },
  {
   "cell_type": "markdown",
   "metadata": {},
   "source": [
    "## Making an HTML page\n",
    "Create an html page with \"hello world\"!\n",
    "the first thing we need to do is generate an R script (which we can accomplish with ---)\n",
    "Then, we can source the script from within this notebook, and then pass it to the ```Renderer``"
   ]
  },
  {
   "cell_type": "code",
   "execution_count": 12,
   "metadata": {},
   "outputs": [
    {
     "data": {
      "text/html": [
       "'Hello World'"
      ],
      "text/latex": [
       "'Hello World'"
      ],
      "text/markdown": [
       "'Hello World'"
      ],
      "text/plain": [
       "[1] \"Hello World\""
      ]
     },
     "metadata": {},
     "output_type": "display_data"
    }
   ],
   "source": [
    "test <- \"Hello World\"\n",
    "test"
   ]
  },
  {
   "cell_type": "code",
   "execution_count": 14,
   "metadata": {},
   "outputs": [
    {
     "data": {
      "text/html": [
       "<ol class=list-inline>\n",
       "\t<li>'provBookR-Functions.ipynb'</li>\n",
       "\t<li>'WorkingWithExtensions .ipynb'</li>\n",
       "\t<li>'WorkingWithExtensionsR.ipynb'</li>\n",
       "\t<li>'WorkingWithExtensionsR.r'</li>\n",
       "</ol>\n"
      ],
      "text/latex": [
       "\\begin{enumerate*}\n",
       "\\item 'provBookR-Functions.ipynb'\n",
       "\\item 'WorkingWithExtensions .ipynb'\n",
       "\\item 'WorkingWithExtensionsR.ipynb'\n",
       "\\item 'WorkingWithExtensionsR.r'\n",
       "\\end{enumerate*}\n"
      ],
      "text/markdown": [
       "1. 'provBookR-Functions.ipynb'\n",
       "2. 'WorkingWithExtensions .ipynb'\n",
       "3. 'WorkingWithExtensionsR.ipynb'\n",
       "4. 'WorkingWithExtensionsR.r'\n",
       "\n",
       "\n"
      ],
      "text/plain": [
       "[1] \"provBookR-Functions.ipynb\"    \"WorkingWithExtensions .ipynb\"\n",
       "[3] \"WorkingWithExtensionsR.ipynb\" \"WorkingWithExtensionsR.r\"    "
      ]
     },
     "metadata": {},
     "output_type": "display_data"
    }
   ],
   "source": [
    "list.files()"
   ]
  },
  {
   "cell_type": "code",
   "execution_count": 15,
   "metadata": {},
   "outputs": [
    {
     "name": "stderr",
     "output_type": "stream",
     "text": [
      "\n",
      "\n",
      "processing file: WorkingWithExtensionsR.spin.Rmd\n"
     ]
    },
    {
     "name": "stdout",
     "output_type": "stream",
     "text": [
      "  |......................                                           |  33%\n",
      "  ordinary text without R code\n",
      "\n",
      "  |...........................................                      |  67%\n",
      "label: unnamed-chunk-1\n",
      "  |.................................................................| 100%\n",
      "  ordinary text without R code\n",
      "\n",
      "\n"
     ]
    },
    {
     "name": "stderr",
     "output_type": "stream",
     "text": [
      "output file: WorkingWithExtensionsR.knit.md\n",
      "\n"
     ]
    },
    {
     "name": "stdout",
     "output_type": "stream",
     "text": [
      "/Users/erickoduniyi/anaconda3/bin/pandoc +RTS -K512m -RTS WorkingWithExtensionsR.utf8.md --to html4 --from markdown+autolink_bare_uris+ascii_identifiers+tex_math_single_backslash --output WorkingWithExtensionsR.html --smart --email-obfuscation none --self-contained --standalone --section-divs --template /Users/erickoduniyi/Library/R/3.6/library/rmarkdown/rmd/h/default.html --no-highlight --variable highlightjs=1 --variable 'theme:bootstrap' --include-in-header /var/folders/bg/wxdnd22s695f4569t0v1v2x80000gn/T//RtmpDKeGBL/rmarkdown-str6dd653152f74.html --mathjax --variable 'mathjax-url:https://mathjax.rstudio.com/latest/MathJax.js?config=TeX-AMS-MML_HTMLorMML' \n"
     ]
    },
    {
     "name": "stderr",
     "output_type": "stream",
     "text": [
      "\n",
      "Output created: WorkingWithExtensionsR.html\n"
     ]
    }
   ],
   "source": [
    "rmarkdown::render(\"WorkingWithExtensionsR.r\")"
   ]
  },
  {
   "cell_type": "code",
   "execution_count": 16,
   "metadata": {},
   "outputs": [
    {
     "data": {
      "text/html": [
       "<ol class=list-inline>\n",
       "\t<li>'provBookR-Functions.ipynb'</li>\n",
       "\t<li>'WorkingWithExtensions .ipynb'</li>\n",
       "\t<li>'WorkingWithExtensionsR.html'</li>\n",
       "\t<li>'WorkingWithExtensionsR.ipynb'</li>\n",
       "\t<li>'WorkingWithExtensionsR.r'</li>\n",
       "</ol>\n"
      ],
      "text/latex": [
       "\\begin{enumerate*}\n",
       "\\item 'provBookR-Functions.ipynb'\n",
       "\\item 'WorkingWithExtensions .ipynb'\n",
       "\\item 'WorkingWithExtensionsR.html'\n",
       "\\item 'WorkingWithExtensionsR.ipynb'\n",
       "\\item 'WorkingWithExtensionsR.r'\n",
       "\\end{enumerate*}\n"
      ],
      "text/markdown": [
       "1. 'provBookR-Functions.ipynb'\n",
       "2. 'WorkingWithExtensions .ipynb'\n",
       "3. 'WorkingWithExtensionsR.html'\n",
       "4. 'WorkingWithExtensionsR.ipynb'\n",
       "5. 'WorkingWithExtensionsR.r'\n",
       "\n",
       "\n"
      ],
      "text/plain": [
       "[1] \"provBookR-Functions.ipynb\"    \"WorkingWithExtensions .ipynb\"\n",
       "[3] \"WorkingWithExtensionsR.html\"  \"WorkingWithExtensionsR.ipynb\"\n",
       "[5] \"WorkingWithExtensionsR.r\"    "
      ]
     },
     "metadata": {},
     "output_type": "display_data"
    }
   ],
   "source": [
    "list.files()"
   ]
  },
  {
   "cell_type": "markdown",
   "metadata": {},
   "source": [
    "### Making Interactive Pages"
   ]
  },
  {
   "cell_type": "markdown",
   "metadata": {},
   "source": [
    "---\n",
    "title: \"An Interactive Map\"\n",
    "---\n",
    "\n",
    "Below is a map that shows the location of the\n",
    "Department of Statistics, Iowa State University.\n",
    "\n",
    "```{r out.width='100%', echo=FALSE}\n",
    "library(leaflet)\n",
    "leaflet() %>% addTiles() %>%\n",
    "  setView(-93.65, 42.0285, zoom = 17) %>%\n",
    "  addPopups(\n",
    "    -93.65, 42.0285,\n",
    "    'Here is the <b>Department of Statistics</b>, ISU'\n",
    "  )\n",
    "```"
   ]
  },
  {
   "cell_type": "markdown",
   "metadata": {},
   "source": [
    "---\n",
    "title: \"An Interactive Map\"\n",
    "---\n",
    "\n",
    "Below is a map that shows the location of the\n",
    "Department of Statistics, Iowa State University.\n",
    "\n",
    "```{r out.width='100%', echo=FALSE}\n",
    "library(leaflet)\n",
    "leaflet() %>% addTiles() %>%\n",
    "  setView(-93.65, 42.0285, zoom = 17) %>%\n",
    "  addPopups(\n",
    "    -93.65, 42.0285,\n",
    "    'Here is the <b>Department of Statistics</b>, ISU'\n",
    "  )\n",
    "```"
   ]
  },
  {
   "cell_type": "markdown",
   "metadata": {},
   "source": [
    "```{r}\n",
    "blah <-function()\n",
    "```"
   ]
  },
  {
   "cell_type": "markdown",
   "metadata": {},
   "source": [
    "## Developing A Simple Web Application"
   ]
  },
  {
   "cell_type": "code",
   "execution_count": 4,
   "metadata": {},
   "outputs": [
    {
     "name": "stderr",
     "output_type": "stream",
     "text": [
      "Installing package into ‘/Users/erickoduniyi/Library/R/3.6/library’\n",
      "(as ‘lib’ is unspecified)\n",
      "Warning message:\n",
      "“unable to access index for repository https://cran.r-project.org/src/contrib:\n",
      "  cannot open URL 'https://cran.r-project.org/src/contrib/PACKAGES'”Warning message:\n",
      "“package ‘shiny’ is not available (for R version 3.6.0)”Warning message:\n",
      "“unable to access index for repository https://cran.r-project.org/bin/macosx/el-capitan/contrib/3.6:\n",
      "  cannot open URL 'https://cran.r-project.org/bin/macosx/el-capitan/contrib/3.6/PACKAGES'”"
     ]
    }
   ],
   "source": [
    "# Install the shiny package\n",
    "install.packages(\"shiny\")"
   ]
  },
  {
   "cell_type": "markdown",
   "metadata": {},
   "source": [
    "#### ui.r"
   ]
  },
  {
   "cell_type": "code",
   "execution_count": null,
   "metadata": {},
   "outputs": [],
   "source": [
    "shinyUI"
   ]
  },
  {
   "cell_type": "markdown",
   "metadata": {},
   "source": [
    "##### server.r"
   ]
  },
  {
   "cell_type": "code",
   "execution_count": null,
   "metadata": {},
   "outputs": [],
   "source": [
    "library(shiny)\n",
    "shinyServer(\n",
    "    pageWithSidebar(\n",
    "    headerPanel(\"My First Shiny App\"),\n",
    "    \n",
    "    sidebarPanel('Side Bar'),\n",
    "    \n",
    "    mainPanel(\"Main Panel\")\n",
    "    \n",
    "    )\n",
    ")"
   ]
  },
  {
   "cell_type": "code",
   "execution_count": 5,
   "metadata": {},
   "outputs": [
    {
     "ename": "ERROR",
     "evalue": "Error in eval(expr, envir, enclos): object 'pwd' not found\n",
     "output_type": "error",
     "traceback": [
      "Error in eval(expr, envir, enclos): object 'pwd' not found\nTraceback:\n"
     ]
    }
   ],
   "source": [
    "pwd"
   ]
  },
  {
   "cell_type": "code",
   "execution_count": 6,
   "metadata": {},
   "outputs": [
    {
     "data": {
      "text/html": [
       "'/Users/erickoduniyi/Documents/School/KU/Academics/2018-2019/Research/Hardvard-Forest/Projects/Fruits-Of-Provenance/Construction/Idea-Generation'"
      ],
      "text/latex": [
       "'/Users/erickoduniyi/Documents/School/KU/Academics/2018-2019/Research/Hardvard-Forest/Projects/Fruits-Of-Provenance/Construction/Idea-Generation'"
      ],
      "text/markdown": [
       "'/Users/erickoduniyi/Documents/School/KU/Academics/2018-2019/Research/Hardvard-Forest/Projects/Fruits-Of-Provenance/Construction/Idea-Generation'"
      ],
      "text/plain": [
       "[1] \"/Users/erickoduniyi/Documents/School/KU/Academics/2018-2019/Research/Hardvard-Forest/Projects/Fruits-Of-Provenance/Construction/Idea-Generation\""
      ]
     },
     "metadata": {},
     "output_type": "display_data"
    }
   ],
   "source": [
    "getwd()"
   ]
  },
  {
   "cell_type": "code",
   "execution_count": null,
   "metadata": {},
   "outputs": [],
   "source": []
  }
 ],
 "metadata": {
  "kernelspec": {
   "display_name": "R",
   "language": "R",
   "name": "ir"
  },
  "language_info": {
   "codemirror_mode": "r",
   "file_extension": ".r",
   "mimetype": "text/x-r-source",
   "name": "R",
   "pygments_lexer": "r",
   "version": "3.6.0"
  }
 },
 "nbformat": 4,
 "nbformat_minor": 2
}
