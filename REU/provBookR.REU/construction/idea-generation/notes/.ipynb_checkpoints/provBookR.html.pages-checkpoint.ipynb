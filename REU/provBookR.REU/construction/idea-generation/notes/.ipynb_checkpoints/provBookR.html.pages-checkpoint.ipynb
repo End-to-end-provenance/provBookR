{
 "cells": [
  {
   "cell_type": "code",
   "execution_count": 2,
   "metadata": {},
   "outputs": [],
   "source": [
    "# Load necessary libraries\n",
    "library(knitr)\n",
    "# library(ezknitr)\n",
    "library(rmarkdown)\n",
    "library(htmltools)"
   ]
  },
  {
   "cell_type": "code",
   "execution_count": 5,
   "metadata": {},
   "outputs": [
    {
     "data": {
      "text/html": [
       "<ol class=list-inline>\n",
       "\t<li>'css'</li>\n",
       "\t<li>'fonts'</li>\n",
       "\t<li>'FOP-OUTLINE-2NDFORM-2PRINT'</li>\n",
       "\t<li>'img'</li>\n",
       "\t<li>'jss'</li>\n",
       "\t<li>'myscript-data-frame-2-5by5MAT.ipynb'</li>\n",
       "\t<li>'provBookR-Functions.ipynb'</li>\n",
       "\t<li>'provBookR.html.pages.ipynb'</li>\n",
       "\t<li>'provBookR.provenance.collection.ipynb'</li>\n",
       "\t<li>'provBookR.test.01'</li>\n",
       "\t<li>'test'</li>\n",
       "\t<li>'WorkingWithExtensions .ipynb'</li>\n",
       "\t<li>'WorkingWithExtensionsR.ipynb'</li>\n",
       "</ol>\n"
      ],
      "text/latex": [
       "\\begin{enumerate*}\n",
       "\\item 'css'\n",
       "\\item 'fonts'\n",
       "\\item 'FOP-OUTLINE-2NDFORM-2PRINT'\n",
       "\\item 'img'\n",
       "\\item 'jss'\n",
       "\\item 'myscript-data-frame-2-5by5MAT.ipynb'\n",
       "\\item 'provBookR-Functions.ipynb'\n",
       "\\item 'provBookR.html.pages.ipynb'\n",
       "\\item 'provBookR.provenance.collection.ipynb'\n",
       "\\item 'provBookR.test.01'\n",
       "\\item 'test'\n",
       "\\item 'WorkingWithExtensions .ipynb'\n",
       "\\item 'WorkingWithExtensionsR.ipynb'\n",
       "\\end{enumerate*}\n"
      ],
      "text/markdown": [
       "1. 'css'\n",
       "2. 'fonts'\n",
       "3. 'FOP-OUTLINE-2NDFORM-2PRINT'\n",
       "4. 'img'\n",
       "5. 'jss'\n",
       "6. 'myscript-data-frame-2-5by5MAT.ipynb'\n",
       "7. 'provBookR-Functions.ipynb'\n",
       "8. 'provBookR.html.pages.ipynb'\n",
       "9. 'provBookR.provenance.collection.ipynb'\n",
       "10. 'provBookR.test.01'\n",
       "11. 'test'\n",
       "12. 'WorkingWithExtensions .ipynb'\n",
       "13. 'WorkingWithExtensionsR.ipynb'\n",
       "\n",
       "\n"
      ],
      "text/plain": [
       " [1] \"css\"                                  \n",
       " [2] \"fonts\"                                \n",
       " [3] \"FOP-OUTLINE-2NDFORM-2PRINT\"           \n",
       " [4] \"img\"                                  \n",
       " [5] \"jss\"                                  \n",
       " [6] \"myscript-data-frame-2-5by5MAT.ipynb\"  \n",
       " [7] \"provBookR-Functions.ipynb\"            \n",
       " [8] \"provBookR.html.pages.ipynb\"           \n",
       " [9] \"provBookR.provenance.collection.ipynb\"\n",
       "[10] \"provBookR.test.01\"                    \n",
       "[11] \"test\"                                 \n",
       "[12] \"WorkingWithExtensions .ipynb\"         \n",
       "[13] \"WorkingWithExtensionsR.ipynb\"         "
      ]
     },
     "metadata": {},
     "output_type": "display_data"
    }
   ],
   "source": [
    "list.files()"
   ]
  },
  {
   "cell_type": "code",
   "execution_count": 15,
   "metadata": {},
   "outputs": [],
   "source": [
    "# Create a html document\n",
    "provBookR.doc.1 <- tags$html(\n",
    "    tags$head(\n",
    "        tags$title(\"provBookR: Visualizing Data Stories\"),\n",
    "        tags$body(\n",
    "        h1(\"provBookR: H1-1\"),\n",
    "        h1(\"provBookR: H1-2\"),\n",
    "        h1(\"provBookR: H1-3\")\n",
    "        )\n",
    "    )\n",
    ")\n",
    "\n",
    "number.pages <- 20\n",
    "provBookR.doc.2 <- tags$html(\n",
    "    tags$head(\n",
    "        tags$title(\"provBookR: Visualizing Data Stories\"),\n",
    "        tags$body(\n",
    "            h1(\"provBookR: Visualizing Data Stories\"),\n",
    "            h2(\"provBookR: Example Header\"),\n",
    "            page.maker.2(number.pages)\n",
    "        )\n",
    "    )\n",
    ")\n",
    "    \n",
    "# Save provBook.html\n",
    "file.name <- \"provBookR.test.01.html\"\n",
    "save_html(provBookR.doc.1, file.name, background = \"white\", libdir = \"lib\")\n",
    "\n",
    "# Save provBook.html\n",
    "file.name <- \"provBookR.test.02.html\"\n",
    "save_html(provBookR.doc.2, file.name, background = \"white\", libdir = \"lib\")"
   ]
  },
  {
   "cell_type": "code",
   "execution_count": null,
   "metadata": {},
   "outputs": [],
   "source": [
    "doc <- tags$html(\n",
    "    tags$head(\n",
    "        tags$title('My first page')\n",
    "    ),\n",
    "    tags$body(\n",
    "        h1('My first heading'),\n",
    "        p('My first paragraph, with some ',\n",
    "        strong('bold'),' text.'),\n",
    "        div(id='myDiv', class='simpleDiv','Here is a div with some attributes.')\n",
    "    )\n",
    ")"
   ]
  },
  {
   "cell_type": "code",
   "execution_count": null,
   "metadata": {},
   "outputs": [],
   "source": []
  },
  {
   "cell_type": "code",
   "execution_count": null,
   "metadata": {},
   "outputs": [],
   "source": [
    "thumbnail <- function(title, img, href, caption = TRUE){\n",
    "  div(class = \"col-sm-4\",\n",
    "    a(class = \"thumbnail\", title = title, href = href,\n",
    "      img(src = img),\n",
    "      div(class = if(caption) \"caption\",\n",
    "        if(caption) title)\n",
    "\n",
    "      )\n",
    "    )\n",
    "}"
   ]
  },
  {
   "cell_type": "code",
   "execution_count": 8,
   "metadata": {},
   "outputs": [],
   "source": [
    "# Create a div component using htmltools\n",
    "page.maker <- function(number.pages){\n",
    "    for(i in 1:number.pages){\n",
    "        p(paste(\"Paragraph: \", i))\n",
    "    }\n",
    "}"
   ]
  },
  {
   "cell_type": "code",
   "execution_count": 13,
   "metadata": {},
   "outputs": [],
   "source": [
    "# Create a div component using htmltools\n",
    "page.maker.2 <- function(number.pages){\n",
    "    p(paste(\"Paragraph: \", number.pages)),\n",
    "    p(paste(\"Paragraph: \", number.pages)),\n",
    "    p(paste(\"Paragraph: \", number.pages))\n",
    "}"
   ]
  },
  {
   "cell_type": "code",
   "execution_count": 7,
   "metadata": {},
   "outputs": [
    {
     "data": {
      "text/html": [
       "'The thing about saying Yes'"
      ],
      "text/latex": [
       "'The thing about saying Yes'"
      ],
      "text/markdown": [
       "'The thing about saying Yes'"
      ],
      "text/plain": [
       "[1] \"The thing about saying Yes\""
      ]
     },
     "metadata": {},
     "output_type": "display_data"
    }
   ],
   "source": [
    "i <- \"Yes\"\n",
    "paste(\"The\",\"thing\", \"about\",\"saying\",i)"
   ]
  },
  {
   "cell_type": "code",
   "execution_count": null,
   "metadata": {},
   "outputs": [],
   "source": []
  }
 ],
 "metadata": {
  "kernelspec": {
   "display_name": "R",
   "language": "R",
   "name": "ir"
  },
  "language_info": {
   "codemirror_mode": "r",
   "file_extension": ".r",
   "mimetype": "text/x-r-source",
   "name": "R",
   "pygments_lexer": "r",
   "version": "3.6.0"
  }
 },
 "nbformat": 4,
 "nbformat_minor": 2
}
