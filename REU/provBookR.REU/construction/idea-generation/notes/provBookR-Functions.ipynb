{
 "cells": [
  {
   "cell_type": "markdown",
   "metadata": {},
   "source": [
    "# provBookR: UseCases | Functions | Features \n",
    "<i>By E. Oduniyi</i>"
   ]
  },
  {
   "cell_type": "markdown",
   "metadata": {},
   "source": [
    "## provBookR: UseCases"
   ]
  },
  {
   "cell_type": "markdown",
   "metadata": {},
   "source": [
    "### UseCase 1: Typical book generation\n",
    "```R\n",
    "# Load necessary packages\n",
    "library(ggplot2)\n",
    "library(provBookR)\n",
    "library(tidyverse)\n",
    ".\n",
    ".\n",
    ".\n",
    ".\n",
    ".\n",
    ".\n",
    ".\n",
    "# Generate a figure using ggplot\n",
    "ggplot(data = my.data.frame, mapping = aes(x = dist, y = delay)) + \n",
    "  geom_point(aes(size = count), alpha = 1/3) + \n",
    "  geom_smooth(se = FALSE)\n",
    "\n",
    "# Call provBookR and generate book example 1\n",
    "provBookR(\"my-script.R\")\n",
    "\n",
    "# Call provBookR and generate book example 2\n",
    "# Specifying the type of page \"turning\" to fade\n",
    "provBookR(\"my-script.R\", book.pages = fade)\n",
    "\n",
    "# Call provBookR and generate book example 3\n",
    "# Specifying the speed of the book flipping to be \"slow\"\n",
    "timing <- 2000 # This will be in milliseconds (i.e., 2 secs)\n",
    "provBookR(\"my-script.R\", book.animation = timing)\n",
    "\n",
    "# Call provBookR and generate book example 4\n",
    "# Specifying the speed of the book flipping to be \"fast\"\n",
    "# Specifying the style of data animations\n",
    "timing <- 500 # This will be in milliseconds (i.e., .5 sec)\n",
    "provBookR(\"my-script.R\", book.animation = timing, data.animations = butter)\n",
    "```"
   ]
  },
  {
   "cell_type": "markdown",
   "metadata": {},
   "source": [
    "### UseCase 2: Using E2E\n",
    "```R\n",
    "# Load necessary packages\n",
    "library(devtools)\n",
    "library(ggplot2)\n",
    "library(provBookR)\n",
    "library(tidyverse)\n",
    "\n",
    "# Load provenance packages\n",
    "library(rdt)\n",
    "library(provSummarizeR)\n",
    "library(provViz)\n",
    "library(provDebugR)\n",
    ".\n",
    ".\n",
    ".\n",
    ".\n",
    ".\n",
    ".\n",
    ".\n",
    "# Generate a figure using ggplot\n",
    "ggplot(data = my.data.frame, mapping = aes(x = dist, y = delay)) + \n",
    "  geom_point(aes(size = count), alpha = 1/3) + \n",
    "  geom_smooth(se = FALSE)\n",
    "\n",
    "# Collect and summarize the provenance of a script using provSummarizeR\n",
    "prov.summarize.run(\"my-script.R\")\n",
    "\n",
    "# Collect and summarize the provenance of a script using provViz\n",
    "provenance.visualize(r.script.path = NULL, tool = \"rdtLite\")\n",
    "\n",
    "# Alternatively, if this file was already created, then\n",
    "# prov.visualize.file(prov.file)\n",
    "\n",
    "# Using provDebugR\n",
    "debug.init(\"prov.json\")\n",
    "debug.browser()\n",
    "\n",
    "# Call provBookR and generate book using provenance: example 1\n",
    "provBookR(\"prov.json\")\n",
    "\n",
    "# Call provBookR and generate book using provenance: example 2\n",
    "# Specifying the type of page \"turning\" to fade\n",
    "provBookR(\"prov.json\", book.pages = fade)\n",
    "\n",
    "# Call provBookR and generate book using provenance: example 3\n",
    "# Specifying the speed of the book flipping to be \"slow\"\n",
    "timing <- 2000 # This will be in milliseconds (i.e., 2 secs)\n",
    "provBookR(\"prov.json\", book.animation = timing)\n",
    "\n",
    "# Call provBookR and generate book using provenance: example 4\n",
    "# Specifying the speed of the book flipping to be \"fast\"\n",
    "# Specifying the style of data animations\n",
    "timing <- 500 # This will be in milliseconds (i.e., .5 sec)\n",
    "provBookR(\"prov.json\", book.animation = timing, data.animations = butter)\n",
    "\n",
    "# Call provBookR and generate book using provenance: example 5\n",
    "# Specifying the animation preferences beforehand\n",
    "# Specifying the type of data to visualize\n",
    "provBookR.preference(book.animation = 1000, book.pages = flip, data.animations = butter)\n",
    "provBookR(\"prov.json\", node.type = c(\"Snapshot\",\"Operation\", \"Binding\"))\n",
    "```"
   ]
  },
  {
   "cell_type": "markdown",
   "metadata": {},
   "source": [
    "### Notes on Web-Development\n",
    "<p style='text-align: justify; font-size: 15px\"'>\n",
    "So there are a number of ways of creating a digital-based magazine booklet thing. We want to find the most simplest, efficient, and sustainable method via HMTL, CSS, and Javascript:\n",
    "</p>\n",
    "<p style='text-align: justify; font-size: 15px\"'>\n",
    "<b>Programming Languages</b>\n",
    "\n",
    "    * HTML/HTML5\n",
    "    \n",
    "    * CSS\n",
    "    \n",
    "    * Javascript\n",
    "    \n",
    "    * Processing.js\n",
    "</p>\n",
    "\n",
    "<p style='text-align: justify; font-size: 15px\"'>\n",
    "<b>Web Development Frameworks</b>\n",
    "\n",
    "    * HTML/HTML5\n",
    "        *\n",
    "        \n",
    "    * CSS\n",
    "        * boostrap, material\n",
    "        \n",
    "    * Javascript\n",
    "        * node.js, brain.js, \n",
    "        \n",
    "    * Processing.js\n",
    "        *\n",
    "</p>\n",
    "\n",
    "<p style='text-align: justify; font-size: 15px\"'>\n",
    "<b>Magazine Generation Frameworks</b>\n",
    "\n",
    "    * HTML/HTML5\n",
    "        *\n",
    "        \n",
    "    * CSS\n",
    "        * boostrap, material\n",
    "        \n",
    "    * Javascript\n",
    "        * node.js, brain.js\n",
    "</p>"
   ]
  },
  {
   "cell_type": "markdown",
   "metadata": {},
   "source": [
    "### UseCase 3: Web Application\n",
    "<p style='text-align: justify; font-size: 15px\"'>\n",
    "The third use case of provBookR is particularly important to the modern scientist. In truth, the nature of the internet and the individuals that analyze content from or publish content to webpages has created dominanting presence of human communication. Examples of this domination may be unecessary, however, the reader should consider their own methods of information retrieval. From where do you <i>typically</i> get your information from? Where do you typically present your information? \n",
    "</p>\n",
    "\n",
    "\n",
    "#### The Internet : Application Layer\n",
    "<p style='text-align: justify; font-size: 15px\"'>\n",
    "The internet or the network of networks provides humanity with the capacity to transmit information across shuttering distances at the speed of magic has become indispensible to human cultural information exchange practices. In fact, the internet directly characterizes and requires a majority of these information exchanges. In particular, the layers of the internet and the protocals that operate between them are the language of <i>computational and digital end systems</i>. However, we will only consider the layer that most users interact with, the <i>application layer </i>. The application layer is what people typically think about when they think about <i>why</i> they're going on the internet: Facebook, Gmail, YouTube, Reddit. Clearly, human entertainment and its communication is mediated by these application layer systems. Hence, we draw on this insight for the use case of scientist wanting to collect provenance from their R, python, or Java scripts, and then publish an interactive booklet (i.e., the application) with supporting data lineage animations (i.e., provBookR). Principally, we assume this web application is language agnostic, as we assume the provenance generated is in the form of JSON file. That is, the only thing the provBookR requires is a call to the library, where the web application is generated in browser, and then the user can pass in their prov.json file. \n",
    "</p>"
   ]
  },
  {
   "cell_type": "markdown",
   "metadata": {},
   "source": [
    "#### R Markdown, Knitr, and other HTML Generation Resources\n",
    "<b>Article:</b> [<i>Knitr with R Markdown</i>](https://kbroman.org/knitr_knutshell/pages/Rmarkdown.html)\n",
    "\n",
    "<i>Overview</i>\n",
    "\n",
    "RStudio developed R Markdown as a way to generate quick reports using a bit of R. So, R Markdown is a variant of Markdown that has embedded R code chunks, to be used with knitr. \n",
    "\n",
    "<i>Converting R Markdown to HTML</i>\n",
    "\n",
    "Using RStudio, the simplest way to convert a R Markdown document to html is to open the document within RStudio: File -> New File -> R Markdown. Then, use the “Knit HTML” button just above the document. \n",
    "\n",
    "<i>Processing an R Markdown document</i>\n",
    "\n",
    "In order to process an R Markdown document, one needs the markdown package (which in turn will make use of the knit package), as well as pandoc.\n",
    "\n",
    "----\n",
    "<b>Article:</b> [<i>Creating websites in R</i>](https://www.emilyzabor.com/tutorials/rmarkdown_websites_tutorial.html)\n",
    "\n",
    "<i>Overview:</i>\n",
    "\n",
    "Creating websites with R, R Markdown and Github pages\n",
    "\n",
    "People often create these types of static websites:\n",
    "    * Personal\n",
    "    * Package\n",
    "    * Project\n",
    "    * Blogs \n",
    "\n",
    "<i>General Structure</i>\n",
    "\n",
    "\tR Markdown based websites require he following files: \n",
    "    * index.rmd, \n",
    "    * _site.yml\n",
    "\n",
    "<i>Hosting</i>\n",
    "\n",
    "Often people use GitHub pages to host their websites (R markdown or nah), however other hosting platforms like dropbox or google cloud storage should be fine as well.\n",
    "    * Example 1\n",
    "    * Example 2\n",
    "    \n",
    "----\n",
    "<b>Article:</b> <i>Create HTML or PDF Files with R, Knitr, MiKTeX, and Pandoc</i> \n",
    "\n",
    "<i>Overview:</i>\n",
    "\n",
    "This tutorial goes over the procedure for generating \n",
    "\n",
    "<i>Installation-Steps</i>\n",
    "```R\n",
    "    # install MikTeX\n",
    "    install.packages(\"knitr\")\n",
    "    install.packages(\"markdown\")\n",
    "```\n",
    "\n",
    "<i>Generating Content as html</i>\n",
    "Create a .rmd file to store the analysis:\n",
    "```R\n",
    "    knit(“my_script.rmd”)\n",
    "    markdownToHTML(‘my_script.md’,’my_script.html’)\n",
    "```\n",
    "\n",
    "----\n",
    "<b>Article:</b> <i>pagedown: Create Paged HTML Documents for Printing from R Markdown</i>\n",
    "\n",
    "<i>Overview:</i>\n",
    "\n",
    "----\n",
    "<b>Article:</b> <i>compile_notebook: Compiling R scripts to a notebook</i>  \n",
    "\n",
    "<i>Overview:</i>\n",
    "\n",
    "A brief about using R Markdown to compile R scripts to a notebook which includes commentary, source code, and script output.\n",
    "\n",
    "<i>Function Use</i>\n",
    "\n",
    "```R\n",
    "    rmarkdown::render(“my_script.r”)\n",
    "    rmarkdown::render(\"analysis.R\", \"pdf_document\")\n",
    "```\n",
    "\n",
    "----\n",
    "<b>Article:</b> <i>R2html: Read an R script and write HTML output</i> \n",
    "\n",
    "<i>Overview:</i>\n",
    "\n",
    "----\n",
    "<b>Article:</b> <i>How to build a Shiny app</i> \n",
    "\n",
    "\n",
    "----\n",
    "<b>Article:</b> <i>JavaScript actions packaged for Shiny apps\n",
    "\n",
    "<i>Overview:</i>\n",
    "\n",
    "----\n",
    "<b>Article:</b> <i>Create an HTML output element</i> \n",
    "\n",
    "<i>Overview:</i>\n",
    "\n",
    "----\n",
    "<b>Article:</b> <i>R and Javascript : Execution, Libraries, Integration</i> \n",
    "\n",
    "<i>Overview:</i>\n",
    "\n",
    "----"
   ]
  },
  {
   "cell_type": "markdown",
   "metadata": {},
   "source": [
    "## provBookR: Functions\n",
    "```{r}\n",
    "provBookR.support() <- c(provBookR.json.checker, provBookR.rdt, ..., provBookR.create.dir()) \n",
    "```\n",
    "---\n",
    "```{r}\n",
    "visualizer()\n",
    "```\n",
    "---\n",
    "```{r}\n",
    "book.animations()\n",
    "```\n",
    "---\n",
    "```{r}\n",
    "data.animations()\n",
    "```\n",
    "---\n",
    "```{r}\n",
    "book.pages()\n",
    "```\n",
    "---\n",
    "```{r}\n",
    "data.insert()\n",
    "```\n",
    "---\n",
    "```{r}\n",
    "data.reshape()\n",
    "```"
   ]
  },
  {
   "cell_type": "markdown",
   "metadata": {},
   "source": [
    "![Drag Racing](FOP-OUTLINE-2NDFORM-2PRINT/Slide69.png)"
   ]
  },
  {
   "cell_type": "markdown",
   "metadata": {},
   "source": [
    "![Drag Racing](FOP-OUTLINE-2NDFORM-2PRINT/Slide76.png)"
   ]
  },
  {
   "cell_type": "code",
   "execution_count": 1,
   "metadata": {
    "scrolled": true
   },
   "outputs": [
    {
     "data": {
      "text/html": [
       "<ol class=list-inline>\n",
       "\t<li>'BookBlock-test'</li>\n",
       "\t<li>'doc.char.html'</li>\n",
       "\t<li>'doc.html'</li>\n",
       "\t<li>'html.generate.r'</li>\n",
       "\t<li>'htmlnotes.txt'</li>\n",
       "\t<li>'index.html'</li>\n",
       "\t<li>'index2.html'</li>\n",
       "\t<li>'markdown.knitr.r'</li>\n",
       "\t<li>'myscript-data-frame-1-prov'</li>\n",
       "\t<li>'myscript-data-frame-1.r'</li>\n",
       "\t<li>'myscript-data-frame-2-5by5MAT'</li>\n",
       "\t<li>'myscript-data-frame-2-5by5MAT.r'</li>\n",
       "\t<li>'myscript.r'</li>\n",
       "\t<li>'prov_myscript_2019-07-01T16.06.19EDT'</li>\n",
       "\t<li>'prov_myscript_2019-07-01T16.08.06EDT'</li>\n",
       "\t<li>'prov_myscript-data-frame-1_2019-07-16T13.48.49EDT'</li>\n",
       "\t<li>'prov_myscript-data-frame-1_2019-07-16T13.49.08EDT'</li>\n",
       "\t<li>'provBookHTML.r'</li>\n",
       "\t<li>'provBookHTMLTools.R'</li>\n",
       "\t<li>'provBookR.r'</li>\n",
       "\t<li>'provenance.r'</li>\n",
       "\t<li>'README.md'</li>\n",
       "</ol>\n"
      ],
      "text/latex": [
       "\\begin{enumerate*}\n",
       "\\item 'BookBlock-test'\n",
       "\\item 'doc.char.html'\n",
       "\\item 'doc.html'\n",
       "\\item 'html.generate.r'\n",
       "\\item 'htmlnotes.txt'\n",
       "\\item 'index.html'\n",
       "\\item 'index2.html'\n",
       "\\item 'markdown.knitr.r'\n",
       "\\item 'myscript-data-frame-1-prov'\n",
       "\\item 'myscript-data-frame-1.r'\n",
       "\\item 'myscript-data-frame-2-5by5MAT'\n",
       "\\item 'myscript-data-frame-2-5by5MAT.r'\n",
       "\\item 'myscript.r'\n",
       "\\item 'prov\\_myscript\\_2019-07-01T16.06.19EDT'\n",
       "\\item 'prov\\_myscript\\_2019-07-01T16.08.06EDT'\n",
       "\\item 'prov\\_myscript-data-frame-1\\_2019-07-16T13.48.49EDT'\n",
       "\\item 'prov\\_myscript-data-frame-1\\_2019-07-16T13.49.08EDT'\n",
       "\\item 'provBookHTML.r'\n",
       "\\item 'provBookHTMLTools.R'\n",
       "\\item 'provBookR.r'\n",
       "\\item 'provenance.r'\n",
       "\\item 'README.md'\n",
       "\\end{enumerate*}\n"
      ],
      "text/markdown": [
       "1. 'BookBlock-test'\n",
       "2. 'doc.char.html'\n",
       "3. 'doc.html'\n",
       "4. 'html.generate.r'\n",
       "5. 'htmlnotes.txt'\n",
       "6. 'index.html'\n",
       "7. 'index2.html'\n",
       "8. 'markdown.knitr.r'\n",
       "9. 'myscript-data-frame-1-prov'\n",
       "10. 'myscript-data-frame-1.r'\n",
       "11. 'myscript-data-frame-2-5by5MAT'\n",
       "12. 'myscript-data-frame-2-5by5MAT.r'\n",
       "13. 'myscript.r'\n",
       "14. 'prov_myscript_2019-07-01T16.06.19EDT'\n",
       "15. 'prov_myscript_2019-07-01T16.08.06EDT'\n",
       "16. 'prov_myscript-data-frame-1_2019-07-16T13.48.49EDT'\n",
       "17. 'prov_myscript-data-frame-1_2019-07-16T13.49.08EDT'\n",
       "18. 'provBookHTML.r'\n",
       "19. 'provBookHTMLTools.R'\n",
       "20. 'provBookR.r'\n",
       "21. 'provenance.r'\n",
       "22. 'README.md'\n",
       "\n",
       "\n"
      ],
      "text/plain": [
       " [1] \"BookBlock-test\"                                   \n",
       " [2] \"doc.char.html\"                                    \n",
       " [3] \"doc.html\"                                         \n",
       " [4] \"html.generate.r\"                                  \n",
       " [5] \"htmlnotes.txt\"                                    \n",
       " [6] \"index.html\"                                       \n",
       " [7] \"index2.html\"                                      \n",
       " [8] \"markdown.knitr.r\"                                 \n",
       " [9] \"myscript-data-frame-1-prov\"                       \n",
       "[10] \"myscript-data-frame-1.r\"                          \n",
       "[11] \"myscript-data-frame-2-5by5MAT\"                    \n",
       "[12] \"myscript-data-frame-2-5by5MAT.r\"                  \n",
       "[13] \"myscript.r\"                                       \n",
       "[14] \"prov_myscript_2019-07-01T16.06.19EDT\"             \n",
       "[15] \"prov_myscript_2019-07-01T16.08.06EDT\"             \n",
       "[16] \"prov_myscript-data-frame-1_2019-07-16T13.48.49EDT\"\n",
       "[17] \"prov_myscript-data-frame-1_2019-07-16T13.49.08EDT\"\n",
       "[18] \"provBookHTML.r\"                                   \n",
       "[19] \"provBookHTMLTools.R\"                              \n",
       "[20] \"provBookR.r\"                                      \n",
       "[21] \"provenance.r\"                                     \n",
       "[22] \"README.md\"                                        "
      ]
     },
     "metadata": {},
     "output_type": "display_data"
    }
   ],
   "source": [
    "# Set the working directory\n",
    "dir <- \"/Users/erickoduniyi/Documents/School/KU/Academics/2018-2019/Research/Hardvard-Forest/Projects/Fruits-Of-Provenance/Construction/Development-Code/provBookR/provBookR\"\n",
    "setwd(dir)\n",
    "\n",
    "# Check the files in the directory\n",
    "list.files()"
   ]
  },
  {
   "cell_type": "markdown",
   "metadata": {},
   "source": [
    "### ``` json.check```  *WORKING"
   ]
  },
  {
   "cell_type": "code",
   "execution_count": 2,
   "metadata": {},
   "outputs": [],
   "source": [
    "# .JSON file checker\n",
    "json.check <- function(file.name){    \n",
    "    # Check if it has a javascript file extension\n",
    "    message(\"CHECKING FILE...\")\n",
    "    if(grepl(\"\\\\.json\",file.name)){\n",
    "        return(TRUE)\n",
    "    }\n",
    "    else{\n",
    "        return(FALSE)\n",
    "        }\n",
    "}"
   ]
  },
  {
   "cell_type": "markdown",
   "metadata": {},
   "source": [
    "### ``` provBookR.rdt``` *WIP"
   ]
  },
  {
   "cell_type": "code",
   "execution_count": null,
   "metadata": {},
   "outputs": [],
   "source": [
    "# Load Support Libraries (non-Provenance):\n",
    "library(dplyr)\n",
    "\n",
    "# Load Support Libraries (Provenance):\n",
    "library(rdtLite)\n",
    "library(provParseR)\n",
    "library(provDebugR)\n",
    "library(provSummarizeR)\n",
    "\n",
    "provBookR.rdt <- function(file.name,name.provenance.dir){\n",
    "    if(grepl(\".json$\",file.name) || grepl(\".r$\",file.name)){\n",
    "        file.check <- json.check(file)\n",
    "        if(file.check){provBookR.parse(file.name)}\n",
    "        else{prov.run(file.name, prov.dir=name.provenance.dir, overwrite=FALSE, snapshot.size=Inf)}\n",
    "    }\n",
    "    else{message(\"EXPECTING EITHER A .JSON or .R file\")}\n",
    "    \n",
    "}"
   ]
  },
  {
   "cell_type": "markdown",
   "metadata": {},
   "source": [
    "### ``` provBookR.parse``` *WORKING"
   ]
  },
  {
   "cell_type": "code",
   "execution_count": 3,
   "metadata": {},
   "outputs": [
    {
     "name": "stderr",
     "output_type": "stream",
     "text": [
      "\n",
      "Attaching package: ‘dplyr’\n",
      "\n",
      "The following objects are masked from ‘package:stats’:\n",
      "\n",
      "    filter, lag\n",
      "\n",
      "The following objects are masked from ‘package:base’:\n",
      "\n",
      "    intersect, setdiff, setequal, union\n",
      "\n",
      "\n",
      "Attaching package: ‘provSummarizeR’\n",
      "\n",
      "The following object is masked from ‘package:rdtLite’:\n",
      "\n",
      "    prov.summarize\n",
      "\n"
     ]
    }
   ],
   "source": [
    "# Load Support Libraries (non-Provenance):\n",
    "library(dplyr)\n",
    "\n",
    "# Load Support Libraries (Provenance):\n",
    "library(rdtLite)\n",
    "library(provParseR)\n",
    "library(provDebugR)\n",
    "library(provSummarizeR)\n",
    "\n",
    "provBookR.parse <- function(file.name){\n",
    "\n",
    "    # Extract important information from .json\n",
    "    json.list <- prov.parse(file.name)\n",
    "\n",
    "    # Filter for operations that are assignment\n",
    "    proc.nodes <- get.proc.nodes(json.list)\n",
    "    proc.nodes.assignment <- proc.nodes[grep(\"<-\",proc.nodes$name),c(\"name\",\"startLine\",\"endLine\",\"elapsedTime\")]\n",
    "    colnames(proc.nodes.assignment)[1] <- \"expr\"\n",
    "\n",
    "    # Filter for data values : this will collect all of the data types (if it's data then it's been assignmed)\n",
    "    data.nodes <- get.data.nodes(json.list)\n",
    "    data.nodes.attr <- data.nodes[,c(\"name\",\"value\", \"valType\", \"type\")]\n",
    "    data.nodes.attr <- data.nodes.attr[!(data.nodes.attr$type==\"File\"),]\n",
    "\n",
    "    # Collect all the matrices\n",
    "    ddg.sub.matrix <- cbind(proc.nodes.assignment,data.nodes.attr)\n",
    "    ddg.sub.matrix <- ddg.sub.matrix[,c(\"name\",\"expr\",\"startLine\",\"endLine\",\"elapsedTime\",\"value\",\"valType\",\"type\")]\n",
    "    return(ddg.sub.matrix)\n",
    "\n",
    "}"
   ]
  },
  {
   "cell_type": "code",
   "execution_count": 4,
   "metadata": {
    "scrolled": true
   },
   "outputs": [
    {
     "data": {
      "text/html": [
       "<table>\n",
       "<caption>A data.frame: 3 × 8</caption>\n",
       "<thead>\n",
       "\t<tr><th></th><th scope=col>name</th><th scope=col>expr</th><th scope=col>startLine</th><th scope=col>endLine</th><th scope=col>elapsedTime</th><th scope=col>value</th><th scope=col>valType</th><th scope=col>type</th></tr>\n",
       "\t<tr><th></th><th scope=col>&lt;chr&gt;</th><th scope=col>&lt;chr&gt;</th><th scope=col>&lt;int&gt;</th><th scope=col>&lt;int&gt;</th><th scope=col>&lt;dbl&gt;</th><th scope=col>&lt;chr&gt;</th><th scope=col>&lt;chr&gt;</th><th scope=col>&lt;chr&gt;</th></tr>\n",
       "</thead>\n",
       "<tbody>\n",
       "\t<tr><th scope=row>7</th><td>f</td><td>f &lt;- function(x) {\ty &lt;- x^2\treturn(y)}</td><td>17</td><td>20</td><td>337.690</td><td>function(x){...</td><td><span style=white-space:pre-wrap>function                                                   </span></td><td>Data</td></tr>\n",
       "\t<tr><th scope=row>8</th><td>a</td><td><span style=white-space:pre-wrap>a &lt;- 10                                 </span></td><td>21</td><td>21</td><td>337.695</td><td><span style=white-space:pre-wrap>10             </span></td><td>{\"container\":\"vector\", \"dimension\":[1], \"type\":[\"numeric\"]}</td><td>Data</td></tr>\n",
       "\t<tr><th scope=row>9</th><td>b</td><td><span style=white-space:pre-wrap>b &lt;- f(a)                               </span></td><td>22</td><td>22</td><td>337.700</td><td><span style=white-space:pre-wrap>100            </span></td><td>{\"container\":\"vector\", \"dimension\":[1], \"type\":[\"numeric\"]}</td><td>Data</td></tr>\n",
       "</tbody>\n",
       "</table>\n"
      ],
      "text/latex": [
       "A data.frame: 3 × 8\n",
       "\\begin{tabular}{r|llllllll}\n",
       "  & name & expr & startLine & endLine & elapsedTime & value & valType & type\\\\\n",
       "  & <chr> & <chr> & <int> & <int> & <dbl> & <chr> & <chr> & <chr>\\\\\n",
       "\\hline\n",
       "\t7 & f & f <- function(x) \\{\ty <- x\\textasciicircum{}2\treturn(y)\\} & 17 & 20 & 337.690 & function(x)\\{... & function                                                    & Data\\\\\n",
       "\t8 & a & a <- 10                                  & 21 & 21 & 337.695 & 10              & \\{\"container\":\"vector\", \"dimension\":{[}1{]}, \"type\":{[}\"numeric\"{]}\\} & Data\\\\\n",
       "\t9 & b & b <- f(a)                                & 22 & 22 & 337.700 & 100             & \\{\"container\":\"vector\", \"dimension\":{[}1{]}, \"type\":{[}\"numeric\"{]}\\} & Data\\\\\n",
       "\\end{tabular}\n"
      ],
      "text/markdown": [
       "\n",
       "A data.frame: 3 × 8\n",
       "\n",
       "| <!--/--> | name &lt;chr&gt; | expr &lt;chr&gt; | startLine &lt;int&gt; | endLine &lt;int&gt; | elapsedTime &lt;dbl&gt; | value &lt;chr&gt; | valType &lt;chr&gt; | type &lt;chr&gt; |\n",
       "|---|---|---|---|---|---|---|---|---|\n",
       "| 7 | f | f &lt;- function(x) {\ty &lt;- x^2\treturn(y)} | 17 | 20 | 337.690 | function(x){... | function                                                    | Data |\n",
       "| 8 | a | a &lt;- 10                                  | 21 | 21 | 337.695 | 10              | {\"container\":\"vector\", \"dimension\":[1], \"type\":[\"numeric\"]} | Data |\n",
       "| 9 | b | b &lt;- f(a)                                | 22 | 22 | 337.700 | 100             | {\"container\":\"vector\", \"dimension\":[1], \"type\":[\"numeric\"]} | Data |\n",
       "\n"
      ],
      "text/plain": [
       "  name expr                                     startLine endLine elapsedTime\n",
       "7 f    f <- function(x) {\\ty <- x^2\\treturn(y)} 17        20      337.690    \n",
       "8 a    a <- 10                                  21        21      337.695    \n",
       "9 b    b <- f(a)                                22        22      337.700    \n",
       "  value           valType                                                    \n",
       "7 function(x){... function                                                   \n",
       "8 10              {\"container\":\"vector\", \"dimension\":[1], \"type\":[\"numeric\"]}\n",
       "9 100             {\"container\":\"vector\", \"dimension\":[1], \"type\":[\"numeric\"]}\n",
       "  type\n",
       "7 Data\n",
       "8 Data\n",
       "9 Data"
      ]
     },
     "metadata": {},
     "output_type": "display_data"
    }
   ],
   "source": [
    "file.name <- \"/Users/erickoduniyi/Documents/School/KU/Academics/2018-2019/Research/Hardvard-Forest/Projects/Fruits-Of-Provenance/Construction/Development-Code/provBookR/provBookR/prov_myscript_2019-07-01T16.08.06EDT/prov.json\"\n",
    "provBookR.parse(file.name)"
   ]
  },
  {
   "cell_type": "code",
   "execution_count": 7,
   "metadata": {
    "scrolled": true
   },
   "outputs": [
    {
     "data": {
      "text/html": [
       "<table>\n",
       "<caption>A data.frame: 5 × 8</caption>\n",
       "<thead>\n",
       "\t<tr><th></th><th scope=col>name</th><th scope=col>expr</th><th scope=col>startLine</th><th scope=col>endLine</th><th scope=col>elapsedTime</th><th scope=col>value</th><th scope=col>valType</th><th scope=col>type</th></tr>\n",
       "\t<tr><th></th><th scope=col>&lt;chr&gt;</th><th scope=col>&lt;chr&gt;</th><th scope=col>&lt;int&gt;</th><th scope=col>&lt;int&gt;</th><th scope=col>&lt;dbl&gt;</th><th scope=col>&lt;chr&gt;</th><th scope=col>&lt;chr&gt;</th><th scope=col>&lt;chr&gt;</th></tr>\n",
       "</thead>\n",
       "<tbody>\n",
       "\t<tr><th scope=row>3</th><td>my.data.frame</td><td><span style=white-space:pre-wrap>my.data.frame &lt;- as.data.frame(matrix(nr = 5, nc = 5))    </span></td><td> 5</td><td> 5</td><td>0.004</td><td>data/1-my.data.frame.csv</td><td>{\"container\":\"data_frame\", \"dimension\":[5,5], \"type\":[\"logical\",\"logical\",\"logical\",\"logical\",\"logical\"]}</td><td>Snapshot</td></tr>\n",
       "\t<tr><th scope=row>4</th><td>my.data.frame</td><td>colnames(my.data.frame) &lt;- c(\"X1\", \"X2\", \"X3\", \"X4\", \"X5\")</td><td> 8</td><td> 8</td><td>0.030</td><td>data/2-my.data.frame.csv</td><td>{\"container\":\"data_frame\", \"dimension\":[5,5], \"type\":[\"logical\",\"logical\",\"logical\",\"logical\",\"logical\"]}</td><td>Snapshot</td></tr>\n",
       "\t<tr><th scope=row>5</th><td>my.data.frame</td><td><span style=white-space:pre-wrap>my.data.frame[1, 1] &lt;- 0                                  </span></td><td>11</td><td>11</td><td>0.144</td><td>data/3-my.data.frame.csv</td><td>{\"container\":\"data_frame\", \"dimension\":[5,5], \"type\":[\"numeric\",\"logical\",\"logical\",\"logical\",\"logical\"]}</td><td>Snapshot</td></tr>\n",
       "\t<tr><th scope=row>7</th><td>my.data.frame</td><td><span style=white-space:pre-wrap>my.data.frame &lt;- my.data.frame[, c(2, 1, 3, 4, 5)]        </span></td><td>17</td><td>17</td><td>0.006</td><td>data/4-my.data.frame.csv</td><td>{\"container\":\"data_frame\", \"dimension\":[5,5], \"type\":[\"logical\",\"numeric\",\"logical\",\"logical\",\"logical\"]}</td><td>Snapshot</td></tr>\n",
       "\t<tr><th scope=row>8</th><td>my.data.frame</td><td><span style=white-space:pre-wrap>my.data.frame[1:5, 1:5] &lt;- 1                              </span></td><td>20</td><td>20</td><td>0.034</td><td>data/5-my.data.frame.csv</td><td>{\"container\":\"data_frame\", \"dimension\":[5,5], \"type\":[\"numeric\",\"numeric\",\"numeric\",\"numeric\",\"numeric\"]}</td><td>Snapshot</td></tr>\n",
       "</tbody>\n",
       "</table>\n"
      ],
      "text/latex": [
       "A data.frame: 5 × 8\n",
       "\\begin{tabular}{r|llllllll}\n",
       "  & name & expr & startLine & endLine & elapsedTime & value & valType & type\\\\\n",
       "  & <chr> & <chr> & <int> & <int> & <dbl> & <chr> & <chr> & <chr>\\\\\n",
       "\\hline\n",
       "\t3 & my.data.frame & my.data.frame <- as.data.frame(matrix(nr = 5, nc = 5))     &  5 &  5 & 0.004 & data/1-my.data.frame.csv & \\{\"container\":\"data\\_frame\", \"dimension\":{[}5,5{]}, \"type\":{[}\"logical\",\"logical\",\"logical\",\"logical\",\"logical\"{]}\\} & Snapshot\\\\\n",
       "\t4 & my.data.frame & colnames(my.data.frame) <- c(\"X1\", \"X2\", \"X3\", \"X4\", \"X5\") &  8 &  8 & 0.030 & data/2-my.data.frame.csv & \\{\"container\":\"data\\_frame\", \"dimension\":{[}5,5{]}, \"type\":{[}\"logical\",\"logical\",\"logical\",\"logical\",\"logical\"{]}\\} & Snapshot\\\\\n",
       "\t5 & my.data.frame & my.data.frame{[}1, 1{]} <- 0                                   & 11 & 11 & 0.144 & data/3-my.data.frame.csv & \\{\"container\":\"data\\_frame\", \"dimension\":{[}5,5{]}, \"type\":{[}\"numeric\",\"logical\",\"logical\",\"logical\",\"logical\"{]}\\} & Snapshot\\\\\n",
       "\t7 & my.data.frame & my.data.frame <- my.data.frame{[}, c(2, 1, 3, 4, 5){]}         & 17 & 17 & 0.006 & data/4-my.data.frame.csv & \\{\"container\":\"data\\_frame\", \"dimension\":{[}5,5{]}, \"type\":{[}\"logical\",\"numeric\",\"logical\",\"logical\",\"logical\"{]}\\} & Snapshot\\\\\n",
       "\t8 & my.data.frame & my.data.frame{[}1:5, 1:5{]} <- 1                               & 20 & 20 & 0.034 & data/5-my.data.frame.csv & \\{\"container\":\"data\\_frame\", \"dimension\":{[}5,5{]}, \"type\":{[}\"numeric\",\"numeric\",\"numeric\",\"numeric\",\"numeric\"{]}\\} & Snapshot\\\\\n",
       "\\end{tabular}\n"
      ],
      "text/markdown": [
       "\n",
       "A data.frame: 5 × 8\n",
       "\n",
       "| <!--/--> | name &lt;chr&gt; | expr &lt;chr&gt; | startLine &lt;int&gt; | endLine &lt;int&gt; | elapsedTime &lt;dbl&gt; | value &lt;chr&gt; | valType &lt;chr&gt; | type &lt;chr&gt; |\n",
       "|---|---|---|---|---|---|---|---|---|\n",
       "| 3 | my.data.frame | my.data.frame &lt;- as.data.frame(matrix(nr = 5, nc = 5))     |  5 |  5 | 0.004 | data/1-my.data.frame.csv | {\"container\":\"data_frame\", \"dimension\":[5,5], \"type\":[\"logical\",\"logical\",\"logical\",\"logical\",\"logical\"]} | Snapshot |\n",
       "| 4 | my.data.frame | colnames(my.data.frame) &lt;- c(\"X1\", \"X2\", \"X3\", \"X4\", \"X5\") |  8 |  8 | 0.030 | data/2-my.data.frame.csv | {\"container\":\"data_frame\", \"dimension\":[5,5], \"type\":[\"logical\",\"logical\",\"logical\",\"logical\",\"logical\"]} | Snapshot |\n",
       "| 5 | my.data.frame | my.data.frame[1, 1] &lt;- 0                                   | 11 | 11 | 0.144 | data/3-my.data.frame.csv | {\"container\":\"data_frame\", \"dimension\":[5,5], \"type\":[\"numeric\",\"logical\",\"logical\",\"logical\",\"logical\"]} | Snapshot |\n",
       "| 7 | my.data.frame | my.data.frame &lt;- my.data.frame[, c(2, 1, 3, 4, 5)]         | 17 | 17 | 0.006 | data/4-my.data.frame.csv | {\"container\":\"data_frame\", \"dimension\":[5,5], \"type\":[\"logical\",\"numeric\",\"logical\",\"logical\",\"logical\"]} | Snapshot |\n",
       "| 8 | my.data.frame | my.data.frame[1:5, 1:5] &lt;- 1                               | 20 | 20 | 0.034 | data/5-my.data.frame.csv | {\"container\":\"data_frame\", \"dimension\":[5,5], \"type\":[\"numeric\",\"numeric\",\"numeric\",\"numeric\",\"numeric\"]} | Snapshot |\n",
       "\n"
      ],
      "text/plain": [
       "  name          expr                                                      \n",
       "3 my.data.frame my.data.frame <- as.data.frame(matrix(nr = 5, nc = 5))    \n",
       "4 my.data.frame colnames(my.data.frame) <- c(\"X1\", \"X2\", \"X3\", \"X4\", \"X5\")\n",
       "5 my.data.frame my.data.frame[1, 1] <- 0                                  \n",
       "7 my.data.frame my.data.frame <- my.data.frame[, c(2, 1, 3, 4, 5)]        \n",
       "8 my.data.frame my.data.frame[1:5, 1:5] <- 1                              \n",
       "  startLine endLine elapsedTime value                   \n",
       "3  5         5      0.004       data/1-my.data.frame.csv\n",
       "4  8         8      0.030       data/2-my.data.frame.csv\n",
       "5 11        11      0.144       data/3-my.data.frame.csv\n",
       "7 17        17      0.006       data/4-my.data.frame.csv\n",
       "8 20        20      0.034       data/5-my.data.frame.csv\n",
       "  valType                                                                                                  \n",
       "3 {\"container\":\"data_frame\", \"dimension\":[5,5], \"type\":[\"logical\",\"logical\",\"logical\",\"logical\",\"logical\"]}\n",
       "4 {\"container\":\"data_frame\", \"dimension\":[5,5], \"type\":[\"logical\",\"logical\",\"logical\",\"logical\",\"logical\"]}\n",
       "5 {\"container\":\"data_frame\", \"dimension\":[5,5], \"type\":[\"numeric\",\"logical\",\"logical\",\"logical\",\"logical\"]}\n",
       "7 {\"container\":\"data_frame\", \"dimension\":[5,5], \"type\":[\"logical\",\"numeric\",\"logical\",\"logical\",\"logical\"]}\n",
       "8 {\"container\":\"data_frame\", \"dimension\":[5,5], \"type\":[\"numeric\",\"numeric\",\"numeric\",\"numeric\",\"numeric\"]}\n",
       "  type    \n",
       "3 Snapshot\n",
       "4 Snapshot\n",
       "5 Snapshot\n",
       "7 Snapshot\n",
       "8 Snapshot"
      ]
     },
     "metadata": {},
     "output_type": "display_data"
    }
   ],
   "source": [
    "file.name <- \"/Users/erickoduniyi/Documents/School/KU/Academics/2018-2019/Research/Hardvard-Forest/Projects/Fruits-Of-Provenance/Construction/Development-Code/provBookR/provBookR/myscript-data-frame-2-5by5MAT/prov_myscript-data-frame-2-5by5MAT_2019-07-16T15.18.43EDT/prov.json\""
   ]
  },
  {
   "cell_type": "code",
   "execution_count": 15,
   "metadata": {},
   "outputs": [
    {
     "name": "stderr",
     "output_type": "stream",
     "text": [
      "This is stored in the data folder\n"
     ]
    },
    {
     "ename": "ERROR",
     "evalue": "Error in paste(prov.folder, ): object 'prov.folder' not found\n",
     "output_type": "error",
     "traceback": [
      "Error in paste(prov.folder, ): object 'prov.folder' not found\nTraceback:\n",
      "1. as.data.frame(read.csv(paste(prov.folder, )))   # at line 4 of file <text>",
      "2. read.csv(paste(prov.folder, ))",
      "3. read.table(file = file, header = header, sep = sep, quote = quote, \n .     dec = dec, fill = fill, comment.char = comment.char, ...)",
      "4. paste(prov.folder, )"
     ]
    }
   ],
   "source": [
    "# Check if the value is being read from a .csv or stored in the ddg.df\n",
    "animate.FUN <- function(x){\n",
    "    if(grepl(\"data/\",data.list[x])){\n",
    "        message(\"This is stored in the data folder\")\n",
    "       data as.data.frame(read.csv(paste(prov.folder,data.list[x])))\n",
    "    }\n",
    "    else{\n",
    "        data.to.viz <- data.list[x]\n",
    "    }\n",
    "    \n",
    "}"
   ]
  },
  {
   "cell_type": "code",
   "execution_count": 22,
   "metadata": {},
   "outputs": [
    {
     "data": {
      "text/html": [
       "5"
      ],
      "text/latex": [
       "5"
      ],
      "text/markdown": [
       "5"
      ],
      "text/plain": [
       "[1] 5"
      ]
     },
     "metadata": {},
     "output_type": "display_data"
    },
    {
     "data": {
      "text/html": [
       "<table>\n",
       "<caption>A data.frame: 5 × 3</caption>\n",
       "<thead>\n",
       "\t<tr><th></th><th scope=col>name</th><th scope=col>expr</th><th scope=col>value</th></tr>\n",
       "\t<tr><th></th><th scope=col>&lt;chr&gt;</th><th scope=col>&lt;chr&gt;</th><th scope=col>&lt;chr&gt;</th></tr>\n",
       "</thead>\n",
       "<tbody>\n",
       "\t<tr><th scope=row>3</th><td>my.data.frame</td><td><span style=white-space:pre-wrap>my.data.frame &lt;- as.data.frame(matrix(nr = 5, nc = 5))    </span></td><td>data/1-my.data.frame.csv</td></tr>\n",
       "\t<tr><th scope=row>4</th><td>my.data.frame</td><td>colnames(my.data.frame) &lt;- c(\"X1\", \"X2\", \"X3\", \"X4\", \"X5\")</td><td>data/2-my.data.frame.csv</td></tr>\n",
       "\t<tr><th scope=row>5</th><td>my.data.frame</td><td><span style=white-space:pre-wrap>my.data.frame[1, 1] &lt;- 0                                  </span></td><td>data/3-my.data.frame.csv</td></tr>\n",
       "\t<tr><th scope=row>7</th><td>my.data.frame</td><td><span style=white-space:pre-wrap>my.data.frame &lt;- my.data.frame[, c(2, 1, 3, 4, 5)]        </span></td><td>data/4-my.data.frame.csv</td></tr>\n",
       "\t<tr><th scope=row>8</th><td>my.data.frame</td><td><span style=white-space:pre-wrap>my.data.frame[1:5, 1:5] &lt;- 1                              </span></td><td>data/5-my.data.frame.csv</td></tr>\n",
       "</tbody>\n",
       "</table>\n"
      ],
      "text/latex": [
       "A data.frame: 5 × 3\n",
       "\\begin{tabular}{r|lll}\n",
       "  & name & expr & value\\\\\n",
       "  & <chr> & <chr> & <chr>\\\\\n",
       "\\hline\n",
       "\t3 & my.data.frame & my.data.frame <- as.data.frame(matrix(nr = 5, nc = 5))     & data/1-my.data.frame.csv\\\\\n",
       "\t4 & my.data.frame & colnames(my.data.frame) <- c(\"X1\", \"X2\", \"X3\", \"X4\", \"X5\") & data/2-my.data.frame.csv\\\\\n",
       "\t5 & my.data.frame & my.data.frame{[}1, 1{]} <- 0                                   & data/3-my.data.frame.csv\\\\\n",
       "\t7 & my.data.frame & my.data.frame <- my.data.frame{[}, c(2, 1, 3, 4, 5){]}         & data/4-my.data.frame.csv\\\\\n",
       "\t8 & my.data.frame & my.data.frame{[}1:5, 1:5{]} <- 1                               & data/5-my.data.frame.csv\\\\\n",
       "\\end{tabular}\n"
      ],
      "text/markdown": [
       "\n",
       "A data.frame: 5 × 3\n",
       "\n",
       "| <!--/--> | name &lt;chr&gt; | expr &lt;chr&gt; | value &lt;chr&gt; |\n",
       "|---|---|---|---|\n",
       "| 3 | my.data.frame | my.data.frame &lt;- as.data.frame(matrix(nr = 5, nc = 5))     | data/1-my.data.frame.csv |\n",
       "| 4 | my.data.frame | colnames(my.data.frame) &lt;- c(\"X1\", \"X2\", \"X3\", \"X4\", \"X5\") | data/2-my.data.frame.csv |\n",
       "| 5 | my.data.frame | my.data.frame[1, 1] &lt;- 0                                   | data/3-my.data.frame.csv |\n",
       "| 7 | my.data.frame | my.data.frame &lt;- my.data.frame[, c(2, 1, 3, 4, 5)]         | data/4-my.data.frame.csv |\n",
       "| 8 | my.data.frame | my.data.frame[1:5, 1:5] &lt;- 1                               | data/5-my.data.frame.csv |\n",
       "\n"
      ],
      "text/plain": [
       "  name          expr                                                      \n",
       "3 my.data.frame my.data.frame <- as.data.frame(matrix(nr = 5, nc = 5))    \n",
       "4 my.data.frame colnames(my.data.frame) <- c(\"X1\", \"X2\", \"X3\", \"X4\", \"X5\")\n",
       "5 my.data.frame my.data.frame[1, 1] <- 0                                  \n",
       "7 my.data.frame my.data.frame <- my.data.frame[, c(2, 1, 3, 4, 5)]        \n",
       "8 my.data.frame my.data.frame[1:5, 1:5] <- 1                              \n",
       "  value                   \n",
       "3 data/1-my.data.frame.csv\n",
       "4 data/2-my.data.frame.csv\n",
       "5 data/3-my.data.frame.csv\n",
       "7 data/4-my.data.frame.csv\n",
       "8 data/5-my.data.frame.csv"
      ]
     },
     "metadata": {},
     "output_type": "display_data"
    },
    {
     "data": {
      "text/html": [
       "<ol class=list-inline>\n",
       "\t<li>TRUE</li>\n",
       "\t<li>TRUE</li>\n",
       "\t<li>TRUE</li>\n",
       "\t<li>TRUE</li>\n",
       "\t<li>TRUE</li>\n",
       "</ol>\n"
      ],
      "text/latex": [
       "\\begin{enumerate*}\n",
       "\\item TRUE\n",
       "\\item TRUE\n",
       "\\item TRUE\n",
       "\\item TRUE\n",
       "\\item TRUE\n",
       "\\end{enumerate*}\n"
      ],
      "text/markdown": [
       "1. TRUE\n",
       "2. TRUE\n",
       "3. TRUE\n",
       "4. TRUE\n",
       "5. TRUE\n",
       "\n",
       "\n"
      ],
      "text/plain": [
       "[1] TRUE TRUE TRUE TRUE TRUE"
      ]
     },
     "metadata": {},
     "output_type": "display_data"
    }
   ],
   "source": [
    "# Collect the provenance\n",
    "ddg.df <- provBookR.parse(file.name)\n",
    "\n",
    "# Get the length of the number of pages\n",
    "number.pages <- dim(ddg.df)[1] # Length of the rows is stored in the first element\n",
    "number.pages\n",
    "\n",
    "# Collect the name, expr, and value columns to pass on to html\n",
    "ddg.df.sub <- ddg.df[,c(\"name\",\"expr\",\"value\")]\n",
    "ddg.df.sub\n",
    "\n",
    "if(grepl(\"data/\",ddg.df.sub[,c(\"value\")])){\n",
    "    ddg.df.sub.values <- as.data.frame(read.csv(paste(\"\")))\n",
    "}\n",
    "\n",
    "# if(grepl(\"data/\",ddg.df.sub[1,c(\"value\")])){\n",
    "#     message(\"This value is stored in the snapshot folder\")\n",
    "# }\n",
    "# else{\n",
    "#     message(\"The value is stored in ddg.df.sub\")\n",
    "# }\n",
    "# if(grepl(\"data/\",ddg.df.sub[,c(\"value\")])){\n",
    "# #     ddg.df.sub[,c(\"value\")] <- as.data.frame(read.csv(\"\"))\n",
    "#     message(\"The data is in a folder\")\n",
    "# }\n",
    "# else{\n",
    "#     ddg.df.sub <- ddg.df.sub\n",
    "# }"
   ]
  },
  {
   "cell_type": "markdown",
   "metadata": {},
   "source": [
    "### ``` provBookR.lineage``` *WORKING"
   ]
  },
  {
   "cell_type": "code",
   "execution_count": 97,
   "metadata": {},
   "outputs": [],
   "source": [
    "# Load Support Libraries (non-Provenance):\n",
    "# Load Support Libraries (Provenance):\n",
    "library(rdtLite)\n",
    "library(provParseR)\n",
    "library(provDebugR)\n",
    "library(provSummarizeR)\n",
    "library(provGraphR)\n",
    "library(Rclean)\n",
    "\n",
    "provBookR.lineage <- function(file.name, node.id){\n",
    "    \n",
    "    # Check whether the file passed in is a .json file\n",
    "    json.check(file.name)\n",
    "    \n",
    "    # Create adj.graph\n",
    "    adj.graph <- create.graph(file.name, isFile = T)\n",
    "    \n",
    "    # Collect the lineage from the provenance\n",
    "    lineage <- get.lineage(adj.graph, node.id, forward = F)\n",
    "    return(lineage)\n",
    "}"
   ]
  },
  {
   "cell_type": "code",
   "execution_count": 100,
   "metadata": {
    "scrolled": true
   },
   "outputs": [
    {
     "name": "stderr",
     "output_type": "stream",
     "text": [
      "CHECKING FILE...\n",
      "THIS IS A .JSON!\n"
     ]
    },
    {
     "data": {
      "text/html": [
       "<ol class=list-inline>\n",
       "\t<li>'d3'</li>\n",
       "\t<li>'p9'</li>\n",
       "\t<li>'d2'</li>\n",
       "\t<li>'p8'</li>\n",
       "</ol>\n"
      ],
      "text/latex": [
       "\\begin{enumerate*}\n",
       "\\item 'd3'\n",
       "\\item 'p9'\n",
       "\\item 'd2'\n",
       "\\item 'p8'\n",
       "\\end{enumerate*}\n"
      ],
      "text/markdown": [
       "1. 'd3'\n",
       "2. 'p9'\n",
       "3. 'd2'\n",
       "4. 'p8'\n",
       "\n",
       "\n"
      ],
      "text/plain": [
       "[1] \"d3\" \"p9\" \"d2\" \"p8\""
      ]
     },
     "metadata": {},
     "output_type": "display_data"
    }
   ],
   "source": [
    "file.name <- \"/Users/erickoduniyi/Documents/School/KU/Academics/2018-2019/Research/Hardvard-Forest/Projects/Fruits-Of-Provenance/Construction/Development-Code/provBookR/provBookR/prov_myscript_2019-07-01T16.08.06EDT/prov.json\"\n",
    "provBookR.lineage(file.name,\"d3\")"
   ]
  },
  {
   "cell_type": "code",
   "execution_count": 101,
   "metadata": {
    "scrolled": true
   },
   "outputs": [
    {
     "name": "stderr",
     "output_type": "stream",
     "text": [
      "CHECKING FILE...\n",
      "THIS IS A .JSON!\n"
     ]
    },
    {
     "data": {
      "text/html": [
       "<ol class=list-inline>\n",
       "\t<li>'d5'</li>\n",
       "\t<li>'p8'</li>\n",
       "\t<li>'d4'</li>\n",
       "\t<li>'p7'</li>\n",
       "\t<li>'d3'</li>\n",
       "\t<li>'p5'</li>\n",
       "\t<li>'d2'</li>\n",
       "\t<li>'p4'</li>\n",
       "\t<li>'d1'</li>\n",
       "\t<li>'p3'</li>\n",
       "</ol>\n"
      ],
      "text/latex": [
       "\\begin{enumerate*}\n",
       "\\item 'd5'\n",
       "\\item 'p8'\n",
       "\\item 'd4'\n",
       "\\item 'p7'\n",
       "\\item 'd3'\n",
       "\\item 'p5'\n",
       "\\item 'd2'\n",
       "\\item 'p4'\n",
       "\\item 'd1'\n",
       "\\item 'p3'\n",
       "\\end{enumerate*}\n"
      ],
      "text/markdown": [
       "1. 'd5'\n",
       "2. 'p8'\n",
       "3. 'd4'\n",
       "4. 'p7'\n",
       "5. 'd3'\n",
       "6. 'p5'\n",
       "7. 'd2'\n",
       "8. 'p4'\n",
       "9. 'd1'\n",
       "10. 'p3'\n",
       "\n",
       "\n"
      ],
      "text/plain": [
       " [1] \"d5\" \"p8\" \"d4\" \"p7\" \"d3\" \"p5\" \"d2\" \"p4\" \"d1\" \"p3\""
      ]
     },
     "metadata": {},
     "output_type": "display_data"
    }
   ],
   "source": [
    "file.name <- \"/Users/erickoduniyi/Documents/School/KU/Academics/2018-2019/Research/Hardvard-Forest/Projects/Fruits-Of-Provenance/Construction/Development-Code/provBookR/provBookR/myscript-data-frame-2-5by5MAT/prov_myscript-data-frame-2-5by5MAT_2019-07-16T15.18.43EDT/prov.json\"\n",
    "provBookR.lineage(file.name,\"d5\")"
   ]
  },
  {
   "cell_type": "markdown",
   "metadata": {},
   "source": [
    "### ```provBookR.get.preferences + provBookR.set.preferences``` *WIP"
   ]
  },
  {
   "cell_type": "markdown",
   "metadata": {},
   "source": [
    "```R\n",
    "preferences.set <- c(p1, p2, p3, ..., pn)\n",
    "provBookR.get.preferences <- function(preferences.set){\n",
    "    provBookR.set.preferences(preferences.set)\n",
    "    \n",
    "}\n",
    "\n",
    "provBookR.set.preferences <- function(preferences.set){\n",
    "    \n",
    "}\n",
    "```"
   ]
  },
  {
   "cell_type": "markdown",
   "metadata": {},
   "source": [
    "### ``` provBookR.collect.depedencies + provBookR.create.dir()``` *WIP"
   ]
  },
  {
   "cell_type": "markdown",
   "metadata": {},
   "source": [
    "```R\n",
    "library(htmltools)\n",
    "library(rdtLite)\n",
    "library(provParseR)\n",
    "library(provDebugR)\n",
    "library(provSummarizeR)\n",
    "\n",
    "dir.names <- c(\"jss\",\"css\",\"fonts\",\"img\")\n",
    "provBookR.create.dir(dir.names)\n",
    "\n",
    "provBookR.collect.depedencies <- function(){\n",
    "    dep.js.bookblock <- htmlDependency(\"bookblock\", \"1.11.4\", c(href=\"shared/js/bookblock.js\"),\n",
    "    script = \"bookblock.js\")\n",
    "\n",
    "    dep.js.bookblock.min <- htmlDependency(\"bookblock\", \"1.11.4\", c(href=\"shared/js/bookblock.min.js\"),\n",
    "    script = \"bookblock.min.js\")\n",
    "\n",
    "    dep.js.jquery.bookblock.min <- htmlDependency(\"jqueryui\", \"1.11.4\", c(href=\"shared/js/jquery.bookblock.min.js\"),\n",
    "    script = \"jquery.bookblock.min.js\")\n",
    "\n",
    "    dep.js.jquerypp.custom <- htmlDependency(\"jqueryui\", \"1.11.4\", c(href=\"shared/js/jquerypp.custom.js\"),\n",
    "    script = \"jquerypp.custom.js\")\n",
    "\n",
    "    dep.js.modernizr.custom.js <- htmlDependency(\"jqueryui\", \"1.11.4\", c(href=\"shared/js/modernizr.custom.js\"),\n",
    "    script = \"modernizr.custom.js\")\n",
    "    \n",
    "    js.dependencies <- c(dep.js.bookblock, dep.js.bookblock.min, dep.js.jquery.bookblock.min, dep.js.jquerypp.custom\n",
    "                          ,dep.js.modernizr.custom.js)\n",
    "\n",
    "    # Set the js dependencies\n",
    "    provBookR.set.dependencies(js.dependencies)\n",
    "\n",
    "    # Load css dependencies\n",
    "    dep.css.bookblock <- htmlDependency(\"bookblock\", \"1.11.4\", c(href=\"shared/css/bookblock.css\"), script =\"bookblock.css\")\n",
    "\n",
    "    dep.css.default <- htmlDependency(\"default\", \"1.11.4\", c(href=\"shared/css/default.css\"), script = \"default.css\")\n",
    "\n",
    "    dep.css.demo4 <- htmlDependency(\"demo4\", \"1.11.4\", c(href=\"shared/css/demo4.css\"),script = \"demo4.css\")\n",
    "    \n",
    "    css.dependencies <- c(dep.css.bookblock, dep.css.default, dep.css.demo4)\n",
    "    \n",
    "    # Set the css dependencies\n",
    "    provBookR.set.dependencies(css.dependencies)\n",
    "\n",
    "    # Load font dependencies\n",
    "    dep.font.arrows.eot <- htmlDependency(,c(href=\"shared/fonts/arrows/arrows.eot\"))\n",
    "\n",
    "    dep.font.arrows.ttf <- htmlDependency(,c(href=\"shared/fonts/arrows/arrows.ttf\"))\n",
    "\n",
    "    dep.font.arrows.woff <- htmlDependency(,c(href=\"shared/fonts/arrows/arrows.woff\"))\n",
    "\n",
    "    dep.font.codropsicon.eot <- htmlDependency(\"shared/fonts/codropsicon/codropsicon.eot\")\n",
    "\n",
    "    dep.font.codropsicon.ttf <- htmlDependency(,c(href=\"shared/fonts/codropsicon/codropsicon.ttf\"))\n",
    "\n",
    "    dep.font.codropsicon.woff <- htmlDependency(\"\",c(href=\"shared/fonts/codropsicon/codropsicon.woff\"))\n",
    "    \n",
    "    fonts.dependencies <- c(dep.font.arrows.eot, dep.font.arrows.ttf, dep.font.arrows.woff, dep.font.codropsicon.eot,\n",
    "                      dep.font.codropsicon.ttf,dep.font.codropsicon.woff)\n",
    "    \n",
    "    # Set the font dependencies\n",
    "    provBookR.set.dependencies(font.dependencies)   \n",
    "}\n",
    "\n",
    "provBookR.set.dependencies <- function(dependencies.set){\n",
    "    for(i in seq_along(dependencies.set)){\n",
    "        outputDir <- get.link(dependencies.set[i])\n",
    "        copyDependencyToDir(dependencies.set[i], outputDir, mustWork = TRUE)\n",
    "    }\n",
    "}\n",
    "provBookR.create.dir <- function(dir.names){\n",
    "    for(i in seq_along(dir.names)){\n",
    "        dir.create(dir.names[i])\n",
    "    }\n",
    "}\n",
    "```"
   ]
  },
  {
   "cell_type": "markdown",
   "metadata": {},
   "source": [
    "# ``` visualizer() ``` *WIP"
   ]
  },
  {
   "cell_type": "markdown",
   "metadata": {},
   "source": [
    "![Drag Racing](FOP-OUTLINE-2NDFORM-2PRINT/Slide70.png)"
   ]
  },
  {
   "cell_type": "markdown",
   "metadata": {},
   "source": [
    "```R\n",
    "# generates visualizations for the provBook and data augmentations (e.g., data insertions, data reshaping)\n",
    "# input: user preferences\n",
    "# output: provBook\n",
    "visualizer <- function(){\n",
    "  # visualizer takes specified preference from the User\n",
    "  preferences.users()\n",
    "  # generate page animation using book.animations()\n",
    "  book.animations()\n",
    "  # generate visualization for specified using data.animations()\n",
    "  data.animations()\n",
    "\n",
    "}\n",
    "```"
   ]
  },
  {
   "cell_type": "markdown",
   "metadata": {},
   "source": [
    "## ```book.animations()``` *WIP"
   ]
  },
  {
   "cell_type": "markdown",
   "metadata": {},
   "source": [
    "![Drag Racing](FOP-OUTLINE-2NDFORM-2PRINT/Slide71.png)"
   ]
  },
  {
   "cell_type": "markdown",
   "metadata": {},
   "source": [
    "```R\n",
    "# generates the animations related to data transformation\n",
    "# input: data to animate/display\n",
    "# output: animated/displayed data\n",
    "book.animations <- function(p1, p2, p3, ... , pn){\n",
    "        # do stuff\n",
    "        .\n",
    "        .\n",
    "        .\n",
    "    }\n",
    "```"
   ]
  },
  {
   "cell_type": "markdown",
   "metadata": {},
   "source": [
    "### ``` book.pages()``` *WIP"
   ]
  },
  {
   "cell_type": "markdown",
   "metadata": {},
   "source": [
    "![Drag Racing](FOP-OUTLINE-2NDFORM-2PRINT/Slide72.png)"
   ]
  },
  {
   "cell_type": "markdown",
   "metadata": {},
   "source": [
    "```R\n",
    "# specifies the type of page flipping animations (e.g., flip, turn, etc)\n",
    "# input: set of book page animation preferences\n",
    "# output: specified animation book pages of provbook\n",
    "data.to.be.collected <- vec()\n",
    "book.pages <- function(content){\n",
    "  # animation set = {datatype1, datatype2, datatype3, ..., datatypen}\n",
    "  animate.check(expr, datatype, lineage, content){\n",
    "    if(datatype in animate.set)\n",
    "    {\n",
    "      # Generate animation\n",
    "      data.animations(expr)\n",
    "    }\n",
    "    data.to.be.collected <- vec(expr)\n",
    "\n",
    "  }\n",
    "  div(class =\"bb-item\",\n",
    "    # data expression page\n",
    "    div(class =\"bb-custom-side\",\n",
    "      p(content)\n",
    "    )\n",
    "    # animation page\n",
    "    div(class =\"bb-custom-side\",\n",
    "      p(data.animations(content))\n",
    "    )\n",
    "  )\n",
    "\n",
    "}\n",
    "```"
   ]
  },
  {
   "cell_type": "markdown",
   "metadata": {},
   "source": [
    "## ``` data.animations() ``` *WIP"
   ]
  },
  {
   "cell_type": "markdown",
   "metadata": {},
   "source": [
    "![Drag Racing](FOP-OUTLINE-2NDFORM-2PRINT/Slide73.png)"
   ]
  },
  {
   "cell_type": "markdown",
   "metadata": {},
   "source": [
    "```R\n",
    "# generates the animations related to data transformation\n",
    "# input: data to animate/display\n",
    "# output: animated/displayed data\n",
    "data.animations <- function(p1, p2, p3, ... , pn){\n",
    "        # do stuff\n",
    "        .\n",
    "        .\n",
    "        .\n",
    "}\n",
    "```"
   ]
  },
  {
   "cell_type": "markdown",
   "metadata": {},
   "source": [
    "### ``` data.insert() ``` *WIP"
   ]
  },
  {
   "cell_type": "markdown",
   "metadata": {},
   "source": [
    "![Drag Racing](FOP-OUTLINE-2NDFORM-2PRINT/Slide74.png)"
   ]
  },
  {
   "cell_type": "markdown",
   "metadata": {},
   "source": [
    "```R\n",
    "# generates data animations related to data insertions\n",
    "# input: data to animate/display\n",
    "# output: animated data\n",
    "data.insert <- function(p1, p2, p3, ... , pn){\n",
    "        # do stuff\n",
    "        .\n",
    "        .\n",
    "        .\n",
    "}\n",
    "```"
   ]
  },
  {
   "cell_type": "markdown",
   "metadata": {},
   "source": [
    "### ``` data.reshape() ``` *WIP"
   ]
  },
  {
   "cell_type": "markdown",
   "metadata": {},
   "source": [
    "![Drag Racing](FOP-OUTLINE-2NDFORM-2PRINT/Slide75.png)"
   ]
  },
  {
   "cell_type": "markdown",
   "metadata": {},
   "source": [
    "```R\n",
    "# generates data animations related to data reshaping\n",
    "# input: data to animate/display\n",
    "# output: animated data\n",
    "data.resape <- function(p1, p2, p3, ... , pn){\n",
    "        # do stuff\n",
    "        .\n",
    "        .\n",
    "        .\n",
    "}\n",
    "```"
   ]
  },
  {
   "cell_type": "markdown",
   "metadata": {},
   "source": [
    "### ``` provBook.browser``` *WIP"
   ]
  },
  {
   "cell_type": "code",
   "execution_count": 1,
   "metadata": {},
   "outputs": [
    {
     "ename": "ERROR",
     "evalue": "Error in provBook.browswer() <- function() message(\"Summarizing your R script...\"): invalid (NULL) left side of assignment\n",
     "output_type": "error",
     "traceback": [
      "Error in provBook.browswer() <- function() message(\"Summarizing your R script...\"): invalid (NULL) left side of assignment\nTraceback:\n"
     ]
    }
   ],
   "source": [
    "# Alright so I'm trying to implement a browser like the one in the Debugger \n",
    "\n",
    "# The user may want to name the provBook\n",
    "# An easy way to do this is to just get the name of the function\n",
    "# i.e., paste(\"generating a provbook for\", script.name)\n",
    "\n",
    "# \n",
    "\n",
    "\n",
    "provBook.browswer() <- function()\n",
    "\n",
    "# Summarize\n",
    "message(\"Summarizing your R script...\")\n",
    "user.input(operation)\n",
    "\n",
    "# Forward in Time\n",
    "message(\"Collecting the forward lineage of your object...\")\n",
    "user.input(operation)\n",
    "paste(data.name.object)\n",
    "    \n",
    "# Backward in Time    \n",
    "message(\"Collecting the backward lineage of your object...\")\n",
    "user.input(operation)\n",
    "paste(data.name.object)\n",
    "\n",
    "# Annotate a particular page in the provbook\n",
    "# Annotating the provbook looks like adding a comment to a particular \n",
    "message(\"Are you sure you want to save this annotation\")\n",
    "user.input(operation)\n",
    "message(paste(\"Annotating the provbook page\",page.number))\n",
    "\n",
    "# Users may want to delete an annotation\n",
    "messasge(\"Are you sure you want to remove this annotation\")\n",
    "user.input(operation)\n",
    "message(paste(\"Removing annotation from provbook page\", page.number))\n",
    "\n",
    "# Users may want to generate a layout\n",
    "message(\"What type of layout do you want?\")\n",
    "user.input(operation)\n",
    "switch(operation.layout, layout.1 = \"Butter\", layout.2 = \"Clean\", layout.3 = \"Default\")\n",
    "\n",
    "# Book Generation\n",
    "message(\"Generating ProvBook...\")\n",
    "\n",
    "# The users should be able to make changes to the provBook before and after\n",
    "message(\"Generating \")\n",
    "\n",
    "# Quitting:\n",
    "message(\"Are you sure you want to quit the provBookR?\")\n",
    "\n",
    "switch(operation, case.summarize = provSummarizeR, case.FT = get.lineage(\"forward\"), case.BT = get.lineage(\"backward\"),\n",
    "      case.book.generate = save.html(), case.quit = quit()) # Find the quit function in R. \n",
    "\n",
    "while(!condition){\n",
    "    \n",
    "}"
   ]
  },
  {
   "cell_type": "code",
   "execution_count": 4,
   "metadata": {},
   "outputs": [
    {
     "ename": "ERROR",
     "evalue": "Error in menu(c(\"one\", \"two\")): menu() cannot be used non-interactively\n",
     "output_type": "error",
     "traceback": [
      "Error in menu(c(\"one\", \"two\")): menu() cannot be used non-interactively\nTraceback:\n",
      "1. print(function_that_uses_menu())",
      "2. function_that_uses_menu()",
      "3. menu(c(\"one\", \"two\"))   # at line 3 of file <text>",
      "4. stop(\"menu() cannot be used non-interactively\")"
     ]
    }
   ],
   "source": [
    "function_that_uses_menu <- function() {\n",
    "  # do something\n",
    "  choice <- menu(c(\"one\", \"two\"))\n",
    "  # do other things\n",
    "  return(choice)\n",
    "}\n",
    "\n",
    "automated_menu <- function(choices, graphics = FALSE, title = NULL) {\n",
    "  return(\"one\")\n",
    "}\n",
    "\n",
    "print(function_that_uses_menu())\n",
    "\n",
    "function_env <- environment(menu)\n",
    "original <- get(\"menu\", envir = function_env)\n",
    "assign(\"menu\", automated_menu, envir = function_env)\n",
    "\n",
    "print(function_that_uses_menu())\n",
    "assign(\"menu\", original, envir = function_env)"
   ]
  },
  {
   "cell_type": "code",
   "execution_count": null,
   "metadata": {},
   "outputs": [],
   "source": []
  }
 ],
 "metadata": {
  "kernelspec": {
   "display_name": "R",
   "language": "R",
   "name": "ir"
  },
  "language_info": {
   "codemirror_mode": "r",
   "file_extension": ".r",
   "mimetype": "text/x-r-source",
   "name": "R",
   "pygments_lexer": "r",
   "version": "3.6.0"
  }
 },
 "nbformat": 4,
 "nbformat_minor": 2
}
