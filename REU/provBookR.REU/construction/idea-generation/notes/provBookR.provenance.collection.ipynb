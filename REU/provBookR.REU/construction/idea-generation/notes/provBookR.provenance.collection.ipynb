{
 "cells": [
  {
   "cell_type": "code",
   "execution_count": null,
   "metadata": {},
   "outputs": [],
   "source": [
    "# Set to the directory of provBookR\n",
    "setwd(\"/Users/erickoduniyi/Documents/School/KU/Academics/2018-2019/Research/Hardvard-Forest/Projects/Fruits-Of-Provenance/Construction/Development-Code/provBookR/provBookR\")\n",
    "\n",
    "# Load Provenance Collector (Recorder)\n",
    "library(rdtLite)\n",
    "\n",
    "# Load Provenance Parser\n",
    "library(provParseR)\n",
    "rar\n",
    "# Load Provenance Debugger\n",
    "library(provDebugR)\n",
    "\n",
    "# Load Provenance Summarizer\n",
    "library(provSummarizeR)\n",
    "\n",
    "# Load the Provenance Traveler\n",
    "library(provGraphR)\n",
    "\n",
    "# Load the Provenance Reducer\n",
    "library(Rclean)\n",
    "\n",
    "# Collect Provenance and summary on testing script (provbookR/myscript.r)\n",
    "prov.summarize.run(\"myscript.r\", prov.dir=\".\", overwrite=FALSE)\n",
    "\n",
    "# Collect Provenance and summary on testing script (provbookR/myscript.r)\n",
    "prov.summarize.run(\"myscript-data-frame-1.r\", prov.dir=\".\", overwrite=FALSE)\n",
    "\n",
    "# Collect the lineage using get.lieage using provGraphR\n",
    "lineage <- get.lineage()"
   ]
  }
 ],
 "metadata": {
  "kernelspec": {
   "display_name": "R",
   "language": "R",
   "name": "ir"
  },
  "language_info": {
   "codemirror_mode": "r",
   "file_extension": ".r",
   "mimetype": "text/x-r-source",
   "name": "R",
   "pygments_lexer": "r",
   "version": "3.6.0"
  }
 },
 "nbformat": 4,
 "nbformat_minor": 2
}
